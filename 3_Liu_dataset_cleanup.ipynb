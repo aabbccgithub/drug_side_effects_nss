{
 "cells": [
  {
   "cell_type": "code",
   "execution_count": 1,
   "metadata": {},
   "outputs": [],
   "source": [
    "# Import libraries\n",
    "import pandas as pd\n",
    "from pandas import DataFrame\n",
    "import numpy as np \n",
    "import seaborn as sns\n"
   ]
  },
  {
   "cell_type": "code",
   "execution_count": 2,
   "metadata": {},
   "outputs": [],
   "source": [
    "side_effect_binary=pd.read_csv('data/source_codes_and_datasets_2015-09-05/Liu_dataset_and_experiments/Liu_dataset/merged_data/random_group_cv_data.indication', sep = '\\t', delimiter = '|', engine= 'python', header = None)"
   ]
  },
  {
   "cell_type": "code",
   "execution_count": 3,
   "metadata": {},
   "outputs": [],
   "source": [
    "side_effect_binary.columns=['drugBankID', 'drugName', 'compoundID', 'ADE_str', 'chem_str', \\\n",
    "                           'target_gene', 'transporter', 'enzyme', 'kgg', 'indication', \\\n",
    "                           'group_str']"
   ]
  },
  {
   "cell_type": "code",
   "execution_count": 4,
   "metadata": {},
   "outputs": [
    {
     "data": {
      "text/html": [
       "<div>\n",
       "<style scoped>\n",
       "    .dataframe tbody tr th:only-of-type {\n",
       "        vertical-align: middle;\n",
       "    }\n",
       "\n",
       "    .dataframe tbody tr th {\n",
       "        vertical-align: top;\n",
       "    }\n",
       "\n",
       "    .dataframe thead th {\n",
       "        text-align: right;\n",
       "    }\n",
       "</style>\n",
       "<table border=\"1\" class=\"dataframe\">\n",
       "  <thead>\n",
       "    <tr style=\"text-align: right;\">\n",
       "      <th></th>\n",
       "      <th>drugBankID</th>\n",
       "      <th>drugName</th>\n",
       "      <th>compoundID</th>\n",
       "    </tr>\n",
       "  </thead>\n",
       "  <tbody>\n",
       "    <tr>\n",
       "      <td>0</td>\n",
       "      <td>DB00220</td>\n",
       "      <td>nelfinavir</td>\n",
       "      <td>4451</td>\n",
       "    </tr>\n",
       "    <tr>\n",
       "      <td>1</td>\n",
       "      <td>DB01340</td>\n",
       "      <td>cilazapril</td>\n",
       "      <td>2751</td>\n",
       "    </tr>\n",
       "  </tbody>\n",
       "</table>\n",
       "</div>"
      ],
      "text/plain": [
       "  drugBankID    drugName  compoundID\n",
       "0    DB00220  nelfinavir        4451\n",
       "1    DB01340  cilazapril        2751"
      ]
     },
     "execution_count": 4,
     "metadata": {},
     "output_type": "execute_result"
    }
   ],
   "source": [
    "side_effect_binary1=side_effect_binary[['drugBankID', 'drugName', 'compoundID']]\n",
    "side_effect_binary1.head(2)"
   ]
  },
  {
   "cell_type": "code",
   "execution_count": 5,
   "metadata": {},
   "outputs": [
    {
     "data": {
      "text/plain": [
       "drugBankID    826\n",
       "drugName      832\n",
       "compoundID    832\n",
       "dtype: int64"
      ]
     },
     "execution_count": 5,
     "metadata": {},
     "output_type": "execute_result"
    }
   ],
   "source": [
    "side_effect_binary1.nunique()"
   ]
  },
  {
   "cell_type": "code",
   "execution_count": 6,
   "metadata": {},
   "outputs": [],
   "source": [
    "side_effect_binary_str=side_effect_binary[['ADE_str', 'chem_str', 'target_gene', \\\n",
    "                                           'transporter', 'enzyme', 'kgg', 'indication']]"
   ]
  },
  {
   "cell_type": "code",
   "execution_count": 9,
   "metadata": {},
   "outputs": [
    {
     "data": {
      "text/plain": [
       "pandas.core.series.Series"
      ]
     },
     "execution_count": 9,
     "metadata": {},
     "output_type": "execute_result"
    }
   ],
   "source": [
    "#convert ADE_str to list and then to dataframe and concatenate to side_effect_binary1\n",
    "side_effect_binary_ade=side_effect_binary_str.ADE_str.apply(list)\n",
    "type(side_effect_binary_ade)"
   ]
  },
  {
   "cell_type": "code",
   "execution_count": 10,
   "metadata": {},
   "outputs": [
    {
     "data": {
      "text/plain": [
       "pandas.core.frame.DataFrame"
      ]
     },
     "execution_count": 10,
     "metadata": {},
     "output_type": "execute_result"
    }
   ],
   "source": [
    "#convert the ADE_str list to dataframe \n",
    "se_binary_ade=pd.DataFrame(side_effect_binary_ade.tolist())\n",
    "\n",
    "#add suffix to column names\n",
    "se_binary_ade=se_binary_ade.add_suffix('_ade')\n",
    "\n",
    "#convert to int8\n",
    "se_binary_ade=se_binary_ade.apply(pd.to_numeric, downcast='integer')\n",
    "type(se_binary_ade)"
   ]
  },
  {
   "cell_type": "code",
   "execution_count": 11,
   "metadata": {},
   "outputs": [],
   "source": [
    "#convert chem_str to list\n",
    "side_effect_binary_cstr=side_effect_binary_str.chem_str.apply(list)\n",
    "\n",
    "#convert the ADE_str list to dataframe \n",
    "side_effect_binary_cstr=pd.DataFrame(side_effect_binary_cstr.tolist())\n",
    "\n",
    "#add suffix to column names\n",
    "side_effect_binary_cstr=side_effect_binary_cstr.add_suffix('_cstr')\n",
    "\n",
    "#convert to int8\n",
    "side_effect_binary_cstr=side_effect_binary_cstr.apply(pd.to_numeric, downcast='integer')"
   ]
  },
  {
   "cell_type": "code",
   "execution_count": 12,
   "metadata": {},
   "outputs": [],
   "source": [
    "#concatenate with side_effect_binary1 which has drug names\n",
    "side_effect_binary1=pd.concat([side_effect_binary1, side_effect_binary_cstr], axis=1)"
   ]
  },
  {
   "cell_type": "code",
   "execution_count": 14,
   "metadata": {},
   "outputs": [
    {
     "data": {
      "text/html": [
       "<div>\n",
       "<style scoped>\n",
       "    .dataframe tbody tr th:only-of-type {\n",
       "        vertical-align: middle;\n",
       "    }\n",
       "\n",
       "    .dataframe tbody tr th {\n",
       "        vertical-align: top;\n",
       "    }\n",
       "\n",
       "    .dataframe thead th {\n",
       "        text-align: right;\n",
       "    }\n",
       "</style>\n",
       "<table border=\"1\" class=\"dataframe\">\n",
       "  <thead>\n",
       "    <tr style=\"text-align: right;\">\n",
       "      <th></th>\n",
       "      <th>drugBankID</th>\n",
       "      <th>drugName</th>\n",
       "      <th>compoundID</th>\n",
       "      <th>0_cstr</th>\n",
       "      <th>1_cstr</th>\n",
       "      <th>2_cstr</th>\n",
       "      <th>3_cstr</th>\n",
       "      <th>4_cstr</th>\n",
       "      <th>5_cstr</th>\n",
       "      <th>6_cstr</th>\n",
       "      <th>...</th>\n",
       "      <th>871_cstr</th>\n",
       "      <th>872_cstr</th>\n",
       "      <th>873_cstr</th>\n",
       "      <th>874_cstr</th>\n",
       "      <th>875_cstr</th>\n",
       "      <th>876_cstr</th>\n",
       "      <th>877_cstr</th>\n",
       "      <th>878_cstr</th>\n",
       "      <th>879_cstr</th>\n",
       "      <th>880_cstr</th>\n",
       "    </tr>\n",
       "  </thead>\n",
       "  <tbody>\n",
       "    <tr>\n",
       "      <td>0</td>\n",
       "      <td>DB00220</td>\n",
       "      <td>nelfinavir</td>\n",
       "      <td>4451</td>\n",
       "      <td>0</td>\n",
       "      <td>0</td>\n",
       "      <td>0</td>\n",
       "      <td>0</td>\n",
       "      <td>1</td>\n",
       "      <td>1</td>\n",
       "      <td>1</td>\n",
       "      <td>...</td>\n",
       "      <td>0</td>\n",
       "      <td>0</td>\n",
       "      <td>0</td>\n",
       "      <td>0</td>\n",
       "      <td>0</td>\n",
       "      <td>0</td>\n",
       "      <td>0</td>\n",
       "      <td>0</td>\n",
       "      <td>0</td>\n",
       "      <td>0</td>\n",
       "    </tr>\n",
       "    <tr>\n",
       "      <td>1</td>\n",
       "      <td>DB01340</td>\n",
       "      <td>cilazapril</td>\n",
       "      <td>2751</td>\n",
       "      <td>0</td>\n",
       "      <td>0</td>\n",
       "      <td>0</td>\n",
       "      <td>0</td>\n",
       "      <td>0</td>\n",
       "      <td>1</td>\n",
       "      <td>1</td>\n",
       "      <td>...</td>\n",
       "      <td>0</td>\n",
       "      <td>0</td>\n",
       "      <td>0</td>\n",
       "      <td>0</td>\n",
       "      <td>0</td>\n",
       "      <td>0</td>\n",
       "      <td>0</td>\n",
       "      <td>0</td>\n",
       "      <td>0</td>\n",
       "      <td>0</td>\n",
       "    </tr>\n",
       "  </tbody>\n",
       "</table>\n",
       "<p>2 rows × 884 columns</p>\n",
       "</div>"
      ],
      "text/plain": [
       "  drugBankID    drugName  compoundID  0_cstr  1_cstr  2_cstr  3_cstr  4_cstr  \\\n",
       "0    DB00220  nelfinavir        4451       0       0       0       0       1   \n",
       "1    DB01340  cilazapril        2751       0       0       0       0       0   \n",
       "\n",
       "   5_cstr  6_cstr  ...  871_cstr  872_cstr  873_cstr  874_cstr  875_cstr  \\\n",
       "0       1       1  ...         0         0         0         0         0   \n",
       "1       1       1  ...         0         0         0         0         0   \n",
       "\n",
       "   876_cstr  877_cstr  878_cstr  879_cstr  880_cstr  \n",
       "0         0         0         0         0         0  \n",
       "1         0         0         0         0         0  \n",
       "\n",
       "[2 rows x 884 columns]"
      ]
     },
     "execution_count": 14,
     "metadata": {},
     "output_type": "execute_result"
    }
   ],
   "source": [
    "side_effect_binary1.head(2)"
   ]
  },
  {
   "cell_type": "code",
   "execution_count": null,
   "metadata": {},
   "outputs": [],
   "source": [
    "#Merge side_effect_binary1 that has drug info with _ade\n",
    "side_effect_binary1=pd.concat([side_effect_binary1, se_binary_ade], axis=1)\n",
    "#important = ['drugBankID', 'drugName', 'compoundID']\n",
    "#reordered = important + [c for c in side_effect_binary1.columns if c not in important]\n",
    "#side_effect_binary1 = side_effect_binary1[reordered]\n",
    "#keep_same={'drugBankID', 'drugName', 'compoundID'}\n",
    "side_effect_binary1.head()"
   ]
  },
  {
   "cell_type": "code",
   "execution_count": null,
   "metadata": {},
   "outputs": [],
   "source": [
    "#side = df.infer_objects()\n",
    "#df.iloc[:, -6:] = df.iloc[:, -6:].apply(pd.to_numeric, downcast='integer')\n",
    "#for col in [x for x in df.columns if x != 'Date']:\n",
    "   #df[col] = df[col].astype(float)"
   ]
  },
  {
   "cell_type": "code",
   "execution_count": null,
   "metadata": {},
   "outputs": [],
   "source": [
    "#keep_same = {'Id', 'Name'}\n",
    "#df.columns = ['{}{}'.format(c, '' if c in keep_same else '_old')\n",
    "              #for c in df.columns]"
   ]
  },
  {
   "cell_type": "code",
   "execution_count": null,
   "metadata": {},
   "outputs": [],
   "source": [
    "#convert all drugnames to lowercase"
   ]
  },
  {
   "cell_type": "code",
   "execution_count": null,
   "metadata": {},
   "outputs": [],
   "source": [
    "side_effect_binary1.compoundID.dtype"
   ]
  },
  {
   "cell_type": "code",
   "execution_count": null,
   "metadata": {},
   "outputs": [],
   "source": [
    "side_effect_binary1.iloc[:, 3:]=side_effect_binary1.iloc[:, 3:]\\\n",
    ".apply(pd.to_numeric, downcast='integer')"
   ]
  }
 ],
 "metadata": {
  "kernelspec": {
   "display_name": "Python 3",
   "language": "python",
   "name": "python3"
  },
  "language_info": {
   "codemirror_mode": {
    "name": "ipython",
    "version": 3
   },
   "file_extension": ".py",
   "mimetype": "text/x-python",
   "name": "python",
   "nbconvert_exporter": "python",
   "pygments_lexer": "ipython3",
   "version": "3.7.4"
  }
 },
 "nbformat": 4,
 "nbformat_minor": 2
}
