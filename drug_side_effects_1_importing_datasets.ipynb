{
 "cells": [
  {
   "cell_type": "code",
   "execution_count": 1,
   "metadata": {},
   "outputs": [],
   "source": [
    "# Import libraries\n",
    "import pandas as pd\n",
    "from pandas import DataFrame\n",
    "import numpy as np\n",
    "pd.set_option('display.max_columns', None)  "
   ]
  },
  {
   "cell_type": "markdown",
   "metadata": {},
   "source": [
    "1) UMLS_id = UMLS concept id as found on the drug label (UMLS - universal medical language system)\n",
    "2) concept_name = side effect\n",
    "3) detection_method = method of detection (NLP_indication/NLP_precondition/text_mention)\n",
    "the authors used NLP on drug label inserts to find the side effects for a particular drug\n",
    "4) concept_type = MedDRA concept type (LLT= lowest level term, PT= preferred term\n",
    "in few cases, the term is neither LLT nor PT\n",
    "NOTE: from medra.tsv file (SIDER website), PT covers all the different forma of a condition.\n",
    "eg. the PT, abdominal distension covers the different forms namely abdominal distension, distended abdomen, swollen abdomen, swelling abdomen or swelling abd\n",
    "5) UMLS_id_medra = UMLS concept id for MedDRA term\n",
    "6) medra_conceptname= MedDRA concept name\n",
    "IN meddra_all_indications.tsv.gz= all side effects found on the lables are given as LLT. there is atleast one PT for every LLT, but sometimes the PT is the same as the LLT"
   ]
  },
  {
   "cell_type": "markdown",
   "metadata": {},
   "source": [
    "What is selected for analysis from meddra_df or meddra_all_indications.tsv?\n",
    "1) stitich_id, concept_name"
   ]
  },
  {
   "cell_type": "code",
   "execution_count": 43,
   "metadata": {},
   "outputs": [],
   "source": [
    "# Import the datafiles- snap dataset from stanford and SIDER database\n",
    "#MEDRA is a dictionary used by SIDER to extract side effects info from insert labels\n",
    "meddra_df = pd.read_table('data/meddra_all_indications.tsv', sep='\\t', \\\n",
    "                          names=[\"stitch_id\", \"UMLS_id\", \"detection_method\", \"concept_name\", \\\n",
    "                                 \"concept_type\", \"UMLS_id_medra\", \"medra_conceptname\"])\n"
   ]
  },
  {
   "cell_type": "code",
   "execution_count": 44,
   "metadata": {},
   "outputs": [
    {
     "data": {
      "text/html": [
       "<div>\n",
       "<style scoped>\n",
       "    .dataframe tbody tr th:only-of-type {\n",
       "        vertical-align: middle;\n",
       "    }\n",
       "\n",
       "    .dataframe tbody tr th {\n",
       "        vertical-align: top;\n",
       "    }\n",
       "\n",
       "    .dataframe thead th {\n",
       "        text-align: right;\n",
       "    }\n",
       "</style>\n",
       "<table border=\"1\" class=\"dataframe\">\n",
       "  <thead>\n",
       "    <tr style=\"text-align: right;\">\n",
       "      <th></th>\n",
       "      <th>stitch_id</th>\n",
       "      <th>UMLS_id</th>\n",
       "      <th>detection_method</th>\n",
       "      <th>concept_name</th>\n",
       "      <th>concept_type</th>\n",
       "      <th>UMLS_id_medra</th>\n",
       "      <th>medra_conceptname</th>\n",
       "    </tr>\n",
       "  </thead>\n",
       "  <tbody>\n",
       "    <tr>\n",
       "      <td>0</td>\n",
       "      <td>CID100000085</td>\n",
       "      <td>C0015544</td>\n",
       "      <td>text_mention</td>\n",
       "      <td>Failure to Thrive</td>\n",
       "      <td>LLT</td>\n",
       "      <td>C0015544</td>\n",
       "      <td>Failure to thrive</td>\n",
       "    </tr>\n",
       "    <tr>\n",
       "      <td>1</td>\n",
       "      <td>CID100000085</td>\n",
       "      <td>C0015544</td>\n",
       "      <td>text_mention</td>\n",
       "      <td>Failure to Thrive</td>\n",
       "      <td>PT</td>\n",
       "      <td>C0015544</td>\n",
       "      <td>Failure to thrive</td>\n",
       "    </tr>\n",
       "    <tr>\n",
       "      <td>2</td>\n",
       "      <td>CID100000085</td>\n",
       "      <td>C0020615</td>\n",
       "      <td>text_mention</td>\n",
       "      <td>Hypoglycemia</td>\n",
       "      <td>LLT</td>\n",
       "      <td>C0020615</td>\n",
       "      <td>Hypoglycaemia</td>\n",
       "    </tr>\n",
       "    <tr>\n",
       "      <td>3</td>\n",
       "      <td>CID100000085</td>\n",
       "      <td>C0020615</td>\n",
       "      <td>text_mention</td>\n",
       "      <td>Hypoglycemia</td>\n",
       "      <td>PT</td>\n",
       "      <td>C0020615</td>\n",
       "      <td>Hypoglycaemia</td>\n",
       "    </tr>\n",
       "    <tr>\n",
       "      <td>4</td>\n",
       "      <td>CID100000085</td>\n",
       "      <td>C0022661</td>\n",
       "      <td>NLP_indication</td>\n",
       "      <td>Kidney Failure, Chronic</td>\n",
       "      <td>LLT</td>\n",
       "      <td>C0022661</td>\n",
       "      <td>Renal failure chronic</td>\n",
       "    </tr>\n",
       "    <tr>\n",
       "      <td>5</td>\n",
       "      <td>CID100000085</td>\n",
       "      <td>C0022661</td>\n",
       "      <td>NLP_indication</td>\n",
       "      <td>Kidney Failure, Chronic</td>\n",
       "      <td>PT</td>\n",
       "      <td>C0022661</td>\n",
       "      <td>Renal failure chronic</td>\n",
       "    </tr>\n",
       "    <tr>\n",
       "      <td>6</td>\n",
       "      <td>CID100000085</td>\n",
       "      <td>C0025521</td>\n",
       "      <td>NLP_indication</td>\n",
       "      <td>Inborn Errors of Metabolism</td>\n",
       "      <td>LLT</td>\n",
       "      <td>C0025521</td>\n",
       "      <td>Inborn error of metabolism</td>\n",
       "    </tr>\n",
       "    <tr>\n",
       "      <td>7</td>\n",
       "      <td>CID100000085</td>\n",
       "      <td>C0025521</td>\n",
       "      <td>NLP_indication</td>\n",
       "      <td>Inborn Errors of Metabolism</td>\n",
       "      <td>PT</td>\n",
       "      <td>C0025521</td>\n",
       "      <td>Inborn error of metabolism</td>\n",
       "    </tr>\n",
       "    <tr>\n",
       "      <td>8</td>\n",
       "      <td>CID100000085</td>\n",
       "      <td>C0026827</td>\n",
       "      <td>text_mention</td>\n",
       "      <td>Muscle hypotonia</td>\n",
       "      <td>LLT</td>\n",
       "      <td>C0026827</td>\n",
       "      <td>Hypotonia</td>\n",
       "    </tr>\n",
       "    <tr>\n",
       "      <td>9</td>\n",
       "      <td>CID100000085</td>\n",
       "      <td>C0026827</td>\n",
       "      <td>text_mention</td>\n",
       "      <td>Muscle hypotonia</td>\n",
       "      <td>PT</td>\n",
       "      <td>C0026827</td>\n",
       "      <td>Hypotonia</td>\n",
       "    </tr>\n",
       "  </tbody>\n",
       "</table>\n",
       "</div>"
      ],
      "text/plain": [
       "      stitch_id   UMLS_id detection_method                 concept_name  \\\n",
       "0  CID100000085  C0015544     text_mention            Failure to Thrive   \n",
       "1  CID100000085  C0015544     text_mention            Failure to Thrive   \n",
       "2  CID100000085  C0020615     text_mention                 Hypoglycemia   \n",
       "3  CID100000085  C0020615     text_mention                 Hypoglycemia   \n",
       "4  CID100000085  C0022661   NLP_indication      Kidney Failure, Chronic   \n",
       "5  CID100000085  C0022661   NLP_indication      Kidney Failure, Chronic   \n",
       "6  CID100000085  C0025521   NLP_indication  Inborn Errors of Metabolism   \n",
       "7  CID100000085  C0025521   NLP_indication  Inborn Errors of Metabolism   \n",
       "8  CID100000085  C0026827     text_mention             Muscle hypotonia   \n",
       "9  CID100000085  C0026827     text_mention             Muscle hypotonia   \n",
       "\n",
       "  concept_type UMLS_id_medra           medra_conceptname  \n",
       "0          LLT      C0015544           Failure to thrive  \n",
       "1           PT      C0015544           Failure to thrive  \n",
       "2          LLT      C0020615               Hypoglycaemia  \n",
       "3           PT      C0020615               Hypoglycaemia  \n",
       "4          LLT      C0022661       Renal failure chronic  \n",
       "5           PT      C0022661       Renal failure chronic  \n",
       "6          LLT      C0025521  Inborn error of metabolism  \n",
       "7           PT      C0025521  Inborn error of metabolism  \n",
       "8          LLT      C0026827                   Hypotonia  \n",
       "9           PT      C0026827                   Hypotonia  "
      ]
     },
     "execution_count": 44,
     "metadata": {},
     "output_type": "execute_result"
    }
   ],
   "source": [
    "meddra_df.head(10)\n",
    "#concept_name and medra_conceptname is indication for which a drug is used."
   ]
  },
  {
   "cell_type": "code",
   "execution_count": 4,
   "metadata": {},
   "outputs": [
    {
     "data": {
      "text/plain": [
       "(30835, 7)"
      ]
     },
     "execution_count": 4,
     "metadata": {},
     "output_type": "execute_result"
    }
   ],
   "source": [
    "meddra_df.shape"
   ]
  },
  {
   "cell_type": "code",
   "execution_count": 5,
   "metadata": {},
   "outputs": [],
   "source": [
    "#drop unnecessary columns\n",
    "meddra_df=meddra_df[meddra_df.concept_type=='PT']\n",
    "meddra_df=meddra_df.drop(['detection_method', 'concept_type', 'UMLS_id_medra', \\\n",
    "                         'medra_conceptname'], axis=1)"
   ]
  },
  {
   "cell_type": "markdown",
   "metadata": {},
   "source": [
    "#meddra_all_label_indications.tsv is not needed sincd the only column that is extra in this\n",
    "#file is the source label which is the first column\n",
    "meddra_label_df =pd.read_table('data/meddra_all_label_indications.tsv', sep='\\t', \\\n",
    "                               names=[\"source_label\", \"stitch_id1\", \"stitch_id2\",\"UMLS_id\", \\\n",
    "                                      \"detection_method\", \"concept_name\", \\\n",
    "                                 \"concept_type\", \"UMLS_id_medra\", \"medra_conceptname\"])\n",
    "#What is the difference between stitch_id1 and \"stitch_id2\"?\n",
    "#there is only a difference of 1 digit- stitch_id1 is CID1... and stitch_id2 is CID0...\n",
    "#CIDs / CID0... - this is a stereo-specific compound, and the suffix is the \n",
    "#PubChem compound id.\n",
    "#CIDm / CID1... - this is a \"flat\" compound, i.e. with merged stereo-isomers\n",
    "#The suffix (without the leading \"1\") is the PubChem compound id."
   ]
  },
  {
   "cell_type": "markdown",
   "metadata": {},
   "source": [
    "meddra_label_df.head()"
   ]
  },
  {
   "cell_type": "markdown",
   "metadata": {},
   "source": [
    "meddra_label_df.shape"
   ]
  },
  {
   "cell_type": "markdown",
   "metadata": {},
   "source": [
    "#medra_label_big is file in which concept name is repeated since there are variants for \n",
    "#the concept name\n",
    "#side effects or concept_name- eg. abdominal pain can be gastrointestinal pain. "
   ]
  },
  {
   "cell_type": "code",
   "execution_count": 9,
   "metadata": {},
   "outputs": [],
   "source": [
    "#medra_label_big=pd.read_table('data/meddra_all_label_se.tsv', sep='\\t', \\\n",
    "                               #names=[\"source_label\", \"stitch_id1\", \"stitch_id2\",\"UMLS_id\", \\\n",
    "                                 #\"concept_type\", \"UMLS_id2\", \"concept_name\"])\n"
   ]
  },
  {
   "cell_type": "code",
   "execution_count": 10,
   "metadata": {},
   "outputs": [],
   "source": [
    "#medra_label_big.shape"
   ]
  },
  {
   "cell_type": "code",
   "execution_count": 11,
   "metadata": {},
   "outputs": [],
   "source": [
    "#medra_label_big.head()"
   ]
  },
  {
   "cell_type": "markdown",
   "metadata": {},
   "source": [
    "1) cells not needed : detection_method, UMLS_id\n",
    "2)UMLS id - concept unique identifier for the concept_name. for eg.if you search for C0016658\tUMLS_id, it will show concept_name associated with it is fracture.  (https://ncim.nci.nih.gov/ncimbrowser/ConceptReport.jsp?dictionary=NCI%20Metathesaurus&code=C00166580)"
   ]
  },
  {
   "cell_type": "code",
   "execution_count": 45,
   "metadata": {},
   "outputs": [],
   "source": [
    "#meddra.tsv has name of the side effect\n",
    "side_effect=pd.read_table('data/meddra.tsv', sep='\\t', \\\n",
    "                          names=[\"umls_id\", \"meddra_id\", \"concept_type\", \"side_effect\"])"
   ]
  },
  {
   "cell_type": "code",
   "execution_count": 47,
   "metadata": {},
   "outputs": [],
   "source": [
    "side_effect=side_effect[side_effect.meddra_id=='PT']"
   ]
  },
  {
   "cell_type": "code",
   "execution_count": 48,
   "metadata": {},
   "outputs": [
    {
     "data": {
      "text/html": [
       "<div>\n",
       "<style scoped>\n",
       "    .dataframe tbody tr th:only-of-type {\n",
       "        vertical-align: middle;\n",
       "    }\n",
       "\n",
       "    .dataframe tbody tr th {\n",
       "        vertical-align: top;\n",
       "    }\n",
       "\n",
       "    .dataframe thead th {\n",
       "        text-align: right;\n",
       "    }\n",
       "</style>\n",
       "<table border=\"1\" class=\"dataframe\">\n",
       "  <thead>\n",
       "    <tr style=\"text-align: right;\">\n",
       "      <th></th>\n",
       "      <th>umls_id</th>\n",
       "      <th>meddra_id</th>\n",
       "      <th>concept_type</th>\n",
       "      <th>side_effect</th>\n",
       "    </tr>\n",
       "  </thead>\n",
       "  <tbody>\n",
       "    <tr>\n",
       "      <td>1</td>\n",
       "      <td>C0000727</td>\n",
       "      <td>PT</td>\n",
       "      <td>10000647</td>\n",
       "      <td>Acute abdomen</td>\n",
       "    </tr>\n",
       "    <tr>\n",
       "      <td>12</td>\n",
       "      <td>C0000731</td>\n",
       "      <td>PT</td>\n",
       "      <td>10000060</td>\n",
       "      <td>Abdominal distension</td>\n",
       "    </tr>\n",
       "    <tr>\n",
       "      <td>17</td>\n",
       "      <td>C0000734</td>\n",
       "      <td>PT</td>\n",
       "      <td>10000077</td>\n",
       "      <td>Abdominal mass</td>\n",
       "    </tr>\n",
       "    <tr>\n",
       "      <td>22</td>\n",
       "      <td>C0000735</td>\n",
       "      <td>PT</td>\n",
       "      <td>10060925</td>\n",
       "      <td>Abdominal neoplasm</td>\n",
       "    </tr>\n",
       "    <tr>\n",
       "      <td>27</td>\n",
       "      <td>C0000737</td>\n",
       "      <td>PT</td>\n",
       "      <td>10000081</td>\n",
       "      <td>Abdominal pain</td>\n",
       "    </tr>\n",
       "  </tbody>\n",
       "</table>\n",
       "</div>"
      ],
      "text/plain": [
       "     umls_id meddra_id  concept_type           side_effect\n",
       "1   C0000727        PT      10000647         Acute abdomen\n",
       "12  C0000731        PT      10000060  Abdominal distension\n",
       "17  C0000734        PT      10000077        Abdominal mass\n",
       "22  C0000735        PT      10060925    Abdominal neoplasm\n",
       "27  C0000737        PT      10000081        Abdominal pain"
      ]
     },
     "execution_count": 48,
     "metadata": {},
     "output_type": "execute_result"
    }
   ],
   "source": [
    "side_effect.head()"
   ]
  },
  {
   "cell_type": "code",
   "execution_count": 50,
   "metadata": {},
   "outputs": [
    {
     "data": {
      "text/plain": [
       "(20307, 4)"
      ]
     },
     "execution_count": 50,
     "metadata": {},
     "output_type": "execute_result"
    }
   ],
   "source": [
    "side_effect.shape"
   ]
  },
  {
   "cell_type": "code",
   "execution_count": null,
   "metadata": {},
   "outputs": [],
   "source": [
    "sid"
   ]
  },
  {
   "cell_type": "code",
   "execution_count": 12,
   "metadata": {},
   "outputs": [],
   "source": [
    "bio_decagon=pd.read_csv('data/bio-decagon-combo.csv')"
   ]
  },
  {
   "cell_type": "code",
   "execution_count": 13,
   "metadata": {},
   "outputs": [
    {
     "data": {
      "text/html": [
       "<div>\n",
       "<style scoped>\n",
       "    .dataframe tbody tr th:only-of-type {\n",
       "        vertical-align: middle;\n",
       "    }\n",
       "\n",
       "    .dataframe tbody tr th {\n",
       "        vertical-align: top;\n",
       "    }\n",
       "\n",
       "    .dataframe thead th {\n",
       "        text-align: right;\n",
       "    }\n",
       "</style>\n",
       "<table border=\"1\" class=\"dataframe\">\n",
       "  <thead>\n",
       "    <tr style=\"text-align: right;\">\n",
       "      <th></th>\n",
       "      <th>STITCH 1</th>\n",
       "      <th>STITCH 2</th>\n",
       "      <th>Polypharmacy Side Effect</th>\n",
       "      <th>Side Effect Name</th>\n",
       "    </tr>\n",
       "  </thead>\n",
       "  <tbody>\n",
       "    <tr>\n",
       "      <td>0</td>\n",
       "      <td>CID000002173</td>\n",
       "      <td>CID000003345</td>\n",
       "      <td>C0151714</td>\n",
       "      <td>hypermagnesemia</td>\n",
       "    </tr>\n",
       "    <tr>\n",
       "      <td>1</td>\n",
       "      <td>CID000002173</td>\n",
       "      <td>CID000003345</td>\n",
       "      <td>C0035344</td>\n",
       "      <td>retinopathy of prematurity</td>\n",
       "    </tr>\n",
       "    <tr>\n",
       "      <td>2</td>\n",
       "      <td>CID000002173</td>\n",
       "      <td>CID000003345</td>\n",
       "      <td>C0004144</td>\n",
       "      <td>atelectasis</td>\n",
       "    </tr>\n",
       "    <tr>\n",
       "      <td>3</td>\n",
       "      <td>CID000002173</td>\n",
       "      <td>CID000003345</td>\n",
       "      <td>C0002063</td>\n",
       "      <td>alkalosis</td>\n",
       "    </tr>\n",
       "    <tr>\n",
       "      <td>4</td>\n",
       "      <td>CID000002173</td>\n",
       "      <td>CID000003345</td>\n",
       "      <td>C0004604</td>\n",
       "      <td>Back Ache</td>\n",
       "    </tr>\n",
       "  </tbody>\n",
       "</table>\n",
       "</div>"
      ],
      "text/plain": [
       "       STITCH 1      STITCH 2 Polypharmacy Side Effect  \\\n",
       "0  CID000002173  CID000003345                 C0151714   \n",
       "1  CID000002173  CID000003345                 C0035344   \n",
       "2  CID000002173  CID000003345                 C0004144   \n",
       "3  CID000002173  CID000003345                 C0002063   \n",
       "4  CID000002173  CID000003345                 C0004604   \n",
       "\n",
       "             Side Effect Name  \n",
       "0             hypermagnesemia  \n",
       "1  retinopathy of prematurity  \n",
       "2                 atelectasis  \n",
       "3                   alkalosis  \n",
       "4                   Back Ache  "
      ]
     },
     "execution_count": 13,
     "metadata": {},
     "output_type": "execute_result"
    }
   ],
   "source": [
    "bio_decagon.head()"
   ]
  },
  {
   "cell_type": "code",
   "execution_count": 14,
   "metadata": {},
   "outputs": [
    {
     "data": {
      "text/plain": [
       "(4649441, 4)"
      ]
     },
     "execution_count": 14,
     "metadata": {},
     "output_type": "execute_result"
    }
   ],
   "source": [
    "bio_decagon.shape"
   ]
  },
  {
   "cell_type": "code",
   "execution_count": null,
   "metadata": {},
   "outputs": [],
   "source": [
    "#merge bio_decagon with drug_names"
   ]
  },
  {
   "cell_type": "code",
   "execution_count": 15,
   "metadata": {},
   "outputs": [],
   "source": [
    "drug_names=pd.read_table('data/drug_names.tsv', sep='\\t', header=None, names=[\"stitch_code\", \"drug_name\"])"
   ]
  },
  {
   "cell_type": "code",
   "execution_count": 16,
   "metadata": {},
   "outputs": [
    {
     "data": {
      "text/html": [
       "<div>\n",
       "<style scoped>\n",
       "    .dataframe tbody tr th:only-of-type {\n",
       "        vertical-align: middle;\n",
       "    }\n",
       "\n",
       "    .dataframe tbody tr th {\n",
       "        vertical-align: top;\n",
       "    }\n",
       "\n",
       "    .dataframe thead th {\n",
       "        text-align: right;\n",
       "    }\n",
       "</style>\n",
       "<table border=\"1\" class=\"dataframe\">\n",
       "  <thead>\n",
       "    <tr style=\"text-align: right;\">\n",
       "      <th></th>\n",
       "      <th>stitch_code</th>\n",
       "      <th>drug_name</th>\n",
       "    </tr>\n",
       "  </thead>\n",
       "  <tbody>\n",
       "    <tr>\n",
       "      <td>0</td>\n",
       "      <td>CID100000085</td>\n",
       "      <td>carnitine</td>\n",
       "    </tr>\n",
       "    <tr>\n",
       "      <td>1</td>\n",
       "      <td>CID100000119</td>\n",
       "      <td>gamma-aminobutyric</td>\n",
       "    </tr>\n",
       "    <tr>\n",
       "      <td>2</td>\n",
       "      <td>CID100000137</td>\n",
       "      <td>5-aminolevulinic</td>\n",
       "    </tr>\n",
       "    <tr>\n",
       "      <td>3</td>\n",
       "      <td>CID100000143</td>\n",
       "      <td>leucovorin</td>\n",
       "    </tr>\n",
       "    <tr>\n",
       "      <td>4</td>\n",
       "      <td>CID100000146</td>\n",
       "      <td>5-methyltetrahydrofolate</td>\n",
       "    </tr>\n",
       "  </tbody>\n",
       "</table>\n",
       "</div>"
      ],
      "text/plain": [
       "    stitch_code                 drug_name\n",
       "0  CID100000085                 carnitine\n",
       "1  CID100000119        gamma-aminobutyric\n",
       "2  CID100000137          5-aminolevulinic\n",
       "3  CID100000143                leucovorin\n",
       "4  CID100000146  5-methyltetrahydrofolate"
      ]
     },
     "execution_count": 16,
     "metadata": {},
     "output_type": "execute_result"
    }
   ],
   "source": [
    "drug_names.head()"
   ]
  },
  {
   "cell_type": "code",
   "execution_count": 17,
   "metadata": {},
   "outputs": [
    {
     "data": {
      "text/plain": [
       "(1430, 2)"
      ]
     },
     "execution_count": 17,
     "metadata": {},
     "output_type": "execute_result"
    }
   ],
   "source": [
    "drug_names.shape"
   ]
  },
  {
   "cell_type": "code",
   "execution_count": 18,
   "metadata": {},
   "outputs": [],
   "source": [
    "# merge the drug names with meddra_df (meddra_all_indications data) on the stitch_id\n",
    "drug_meddra=pd.merge(drug_names, meddra_df, left_on=\"stitch_code\", right_on=\"stitch_id\")"
   ]
  },
  {
   "cell_type": "code",
   "execution_count": 19,
   "metadata": {},
   "outputs": [
    {
     "data": {
      "text/html": [
       "<div>\n",
       "<style scoped>\n",
       "    .dataframe tbody tr th:only-of-type {\n",
       "        vertical-align: middle;\n",
       "    }\n",
       "\n",
       "    .dataframe tbody tr th {\n",
       "        vertical-align: top;\n",
       "    }\n",
       "\n",
       "    .dataframe thead th {\n",
       "        text-align: right;\n",
       "    }\n",
       "</style>\n",
       "<table border=\"1\" class=\"dataframe\">\n",
       "  <thead>\n",
       "    <tr style=\"text-align: right;\">\n",
       "      <th></th>\n",
       "      <th>stitch_code</th>\n",
       "      <th>drug_name</th>\n",
       "      <th>stitch_id</th>\n",
       "      <th>concept_name</th>\n",
       "    </tr>\n",
       "  </thead>\n",
       "  <tbody>\n",
       "    <tr>\n",
       "      <td>0</td>\n",
       "      <td>CID100000085</td>\n",
       "      <td>carnitine</td>\n",
       "      <td>CID100000085</td>\n",
       "      <td>Failure to Thrive</td>\n",
       "    </tr>\n",
       "    <tr>\n",
       "      <td>1</td>\n",
       "      <td>CID100000085</td>\n",
       "      <td>carnitine</td>\n",
       "      <td>CID100000085</td>\n",
       "      <td>Hypoglycemia</td>\n",
       "    </tr>\n",
       "    <tr>\n",
       "      <td>2</td>\n",
       "      <td>CID100000085</td>\n",
       "      <td>carnitine</td>\n",
       "      <td>CID100000085</td>\n",
       "      <td>Kidney Failure, Chronic</td>\n",
       "    </tr>\n",
       "    <tr>\n",
       "      <td>3</td>\n",
       "      <td>CID100000085</td>\n",
       "      <td>carnitine</td>\n",
       "      <td>CID100000085</td>\n",
       "      <td>Inborn Errors of Metabolism</td>\n",
       "    </tr>\n",
       "    <tr>\n",
       "      <td>4</td>\n",
       "      <td>CID100000085</td>\n",
       "      <td>carnitine</td>\n",
       "      <td>CID100000085</td>\n",
       "      <td>Muscle hypotonia</td>\n",
       "    </tr>\n",
       "  </tbody>\n",
       "</table>\n",
       "</div>"
      ],
      "text/plain": [
       "    stitch_code  drug_name     stitch_id                 concept_name\n",
       "0  CID100000085  carnitine  CID100000085            Failure to Thrive\n",
       "1  CID100000085  carnitine  CID100000085                 Hypoglycemia\n",
       "2  CID100000085  carnitine  CID100000085      Kidney Failure, Chronic\n",
       "3  CID100000085  carnitine  CID100000085  Inborn Errors of Metabolism\n",
       "4  CID100000085  carnitine  CID100000085             Muscle hypotonia"
      ]
     },
     "execution_count": 19,
     "metadata": {},
     "output_type": "execute_result"
    }
   ],
   "source": [
    "drug_meddra.head()"
   ]
  },
  {
   "cell_type": "code",
   "execution_count": 20,
   "metadata": {},
   "outputs": [
    {
     "data": {
      "text/plain": [
       "(16037, 4)"
      ]
     },
     "execution_count": 20,
     "metadata": {},
     "output_type": "execute_result"
    }
   ],
   "source": [
    "drug_meddra.shape"
   ]
  },
  {
   "cell_type": "code",
   "execution_count": 21,
   "metadata": {},
   "outputs": [],
   "source": [
    "#drop the stitch_id since it is same as stitch_code\n",
    "drug_meddra=drug_meddra.drop(columns=['stitch_id'])"
   ]
  },
  {
   "cell_type": "code",
   "execution_count": 22,
   "metadata": {},
   "outputs": [],
   "source": [
    "#How many drugs?\n",
    "# Which drugs have the maximum side effects?\n",
    "#How many side effects for each drugs?\n"
   ]
  },
  {
   "cell_type": "code",
   "execution_count": 23,
   "metadata": {},
   "outputs": [
    {
     "data": {
      "text/plain": [
       "stitch_code     1360\n",
       "drug_name       1284\n",
       "concept_name    2704\n",
       "dtype: int64"
      ]
     },
     "execution_count": 23,
     "metadata": {},
     "output_type": "execute_result"
    }
   ],
   "source": [
    "drug_meddra.nunique()"
   ]
  },
  {
   "cell_type": "code",
   "execution_count": 24,
   "metadata": {},
   "outputs": [],
   "source": [
    "drug_atc=pd.read_table('data/drug_atc.tsv', sep='\\t', header=None, names=[\"stitch_code\", \"atc_code\"])"
   ]
  },
  {
   "cell_type": "code",
   "execution_count": 41,
   "metadata": {},
   "outputs": [
    {
     "data": {
      "text/html": [
       "<div>\n",
       "<style scoped>\n",
       "    .dataframe tbody tr th:only-of-type {\n",
       "        vertical-align: middle;\n",
       "    }\n",
       "\n",
       "    .dataframe tbody tr th {\n",
       "        vertical-align: top;\n",
       "    }\n",
       "\n",
       "    .dataframe thead th {\n",
       "        text-align: right;\n",
       "    }\n",
       "</style>\n",
       "<table border=\"1\" class=\"dataframe\">\n",
       "  <thead>\n",
       "    <tr style=\"text-align: right;\">\n",
       "      <th></th>\n",
       "      <th>stitch_code</th>\n",
       "      <th>atc_code</th>\n",
       "    </tr>\n",
       "  </thead>\n",
       "  <tbody>\n",
       "    <tr>\n",
       "      <td>0</td>\n",
       "      <td>CID100000085</td>\n",
       "      <td>A16AA01</td>\n",
       "    </tr>\n",
       "    <tr>\n",
       "      <td>1</td>\n",
       "      <td>CID100000119</td>\n",
       "      <td>L03AA03</td>\n",
       "    </tr>\n",
       "    <tr>\n",
       "      <td>2</td>\n",
       "      <td>CID100000119</td>\n",
       "      <td>N03AG03</td>\n",
       "    </tr>\n",
       "    <tr>\n",
       "      <td>3</td>\n",
       "      <td>CID100000137</td>\n",
       "      <td>L01XD04</td>\n",
       "    </tr>\n",
       "    <tr>\n",
       "      <td>4</td>\n",
       "      <td>CID100000143</td>\n",
       "      <td>V03AF03</td>\n",
       "    </tr>\n",
       "    <tr>\n",
       "      <td>5</td>\n",
       "      <td>CID100000143</td>\n",
       "      <td>V03AF04</td>\n",
       "    </tr>\n",
       "    <tr>\n",
       "      <td>6</td>\n",
       "      <td>CID100000143</td>\n",
       "      <td>V03AF06</td>\n",
       "    </tr>\n",
       "    <tr>\n",
       "      <td>7</td>\n",
       "      <td>CID100000158</td>\n",
       "      <td>G02AD02</td>\n",
       "    </tr>\n",
       "    <tr>\n",
       "      <td>8</td>\n",
       "      <td>CID100000159</td>\n",
       "      <td>B01AC09</td>\n",
       "    </tr>\n",
       "    <tr>\n",
       "      <td>9</td>\n",
       "      <td>CID100000160</td>\n",
       "      <td>G02AD01</td>\n",
       "    </tr>\n",
       "    <tr>\n",
       "      <td>10</td>\n",
       "      <td>CID100000175</td>\n",
       "      <td>G01AD02</td>\n",
       "    </tr>\n",
       "    <tr>\n",
       "      <td>11</td>\n",
       "      <td>CID100000175</td>\n",
       "      <td>S02AA10</td>\n",
       "    </tr>\n",
       "    <tr>\n",
       "      <td>12</td>\n",
       "      <td>CID100000187</td>\n",
       "      <td>S01EB09</td>\n",
       "    </tr>\n",
       "    <tr>\n",
       "      <td>13</td>\n",
       "      <td>CID100000191</td>\n",
       "      <td>C01EB10</td>\n",
       "    </tr>\n",
       "    <tr>\n",
       "      <td>14</td>\n",
       "      <td>CID100000191</td>\n",
       "      <td>J05AB03</td>\n",
       "    </tr>\n",
       "    <tr>\n",
       "      <td>15</td>\n",
       "      <td>CID100000191</td>\n",
       "      <td>S01AD06</td>\n",
       "    </tr>\n",
       "    <tr>\n",
       "      <td>16</td>\n",
       "      <td>CID100000206</td>\n",
       "      <td>A12AA07</td>\n",
       "    </tr>\n",
       "    <tr>\n",
       "      <td>17</td>\n",
       "      <td>CID100000206</td>\n",
       "      <td>A12BA01</td>\n",
       "    </tr>\n",
       "    <tr>\n",
       "      <td>18</td>\n",
       "      <td>CID100000206</td>\n",
       "      <td>A12CA01</td>\n",
       "    </tr>\n",
       "    <tr>\n",
       "      <td>19</td>\n",
       "      <td>CID100000206</td>\n",
       "      <td>B05CB01</td>\n",
       "    </tr>\n",
       "    <tr>\n",
       "      <td>20</td>\n",
       "      <td>CID100000206</td>\n",
       "      <td>B05CX01</td>\n",
       "    </tr>\n",
       "    <tr>\n",
       "      <td>21</td>\n",
       "      <td>CID100000206</td>\n",
       "      <td>B05XA01</td>\n",
       "    </tr>\n",
       "    <tr>\n",
       "      <td>22</td>\n",
       "      <td>CID100000206</td>\n",
       "      <td>B05XA03</td>\n",
       "    </tr>\n",
       "    <tr>\n",
       "      <td>23</td>\n",
       "      <td>CID100000206</td>\n",
       "      <td>B05XA07</td>\n",
       "    </tr>\n",
       "    <tr>\n",
       "      <td>24</td>\n",
       "      <td>CID100000206</td>\n",
       "      <td>G04BA03</td>\n",
       "    </tr>\n",
       "    <tr>\n",
       "      <td>25</td>\n",
       "      <td>CID100000206</td>\n",
       "      <td>V04CA02</td>\n",
       "    </tr>\n",
       "    <tr>\n",
       "      <td>26</td>\n",
       "      <td>CID100000206</td>\n",
       "      <td>V04CE01</td>\n",
       "    </tr>\n",
       "    <tr>\n",
       "      <td>27</td>\n",
       "      <td>CID100000206</td>\n",
       "      <td>V06DC01</td>\n",
       "    </tr>\n",
       "    <tr>\n",
       "      <td>28</td>\n",
       "      <td>CID100000214</td>\n",
       "      <td>C01EA01</td>\n",
       "    </tr>\n",
       "    <tr>\n",
       "      <td>29</td>\n",
       "      <td>CID100000214</td>\n",
       "      <td>G04BE01</td>\n",
       "    </tr>\n",
       "  </tbody>\n",
       "</table>\n",
       "</div>"
      ],
      "text/plain": [
       "     stitch_code atc_code\n",
       "0   CID100000085  A16AA01\n",
       "1   CID100000119  L03AA03\n",
       "2   CID100000119  N03AG03\n",
       "3   CID100000137  L01XD04\n",
       "4   CID100000143  V03AF03\n",
       "5   CID100000143  V03AF04\n",
       "6   CID100000143  V03AF06\n",
       "7   CID100000158  G02AD02\n",
       "8   CID100000159  B01AC09\n",
       "9   CID100000160  G02AD01\n",
       "10  CID100000175  G01AD02\n",
       "11  CID100000175  S02AA10\n",
       "12  CID100000187  S01EB09\n",
       "13  CID100000191  C01EB10\n",
       "14  CID100000191  J05AB03\n",
       "15  CID100000191  S01AD06\n",
       "16  CID100000206  A12AA07\n",
       "17  CID100000206  A12BA01\n",
       "18  CID100000206  A12CA01\n",
       "19  CID100000206  B05CB01\n",
       "20  CID100000206  B05CX01\n",
       "21  CID100000206  B05XA01\n",
       "22  CID100000206  B05XA03\n",
       "23  CID100000206  B05XA07\n",
       "24  CID100000206  G04BA03\n",
       "25  CID100000206  V04CA02\n",
       "26  CID100000206  V04CE01\n",
       "27  CID100000206  V06DC01\n",
       "28  CID100000214  C01EA01\n",
       "29  CID100000214  G04BE01"
      ]
     },
     "execution_count": 41,
     "metadata": {},
     "output_type": "execute_result"
    }
   ],
   "source": [
    "#ATC code can be used to find the drug name from SIDER database\n",
    "#IS THERE ANOTHER DATABASE THAT CONNECTS ATC_CODE WITH DRUG NAME? -\n",
    "# https://www.genome.jp/kegg-bin/get_htext#E587\n",
    "drug_atc.head(30)"
   ]
  },
  {
   "cell_type": "code",
   "execution_count": 26,
   "metadata": {},
   "outputs": [],
   "source": [
    "#Import chemical substr dataset\n"
   ]
  },
  {
   "cell_type": "code",
   "execution_count": 27,
   "metadata": {},
   "outputs": [],
   "source": [
    "#Load all the Pauwel's dataset\n",
    "#http://members.cbio.mines-paristech.fr/~yyamanishi/side-effect/"
   ]
  },
  {
   "cell_type": "code",
   "execution_count": 28,
   "metadata": {},
   "outputs": [],
   "source": [
    "#Load Liu dataset from .mat file in NSS/capstone/data folder"
   ]
  },
  {
   "cell_type": "code",
   "execution_count": 29,
   "metadata": {},
   "outputs": [],
   "source": [
    "#Load Mituzani datasets\n",
    "#http://web.kuicr.kyoto-u.ac.jp/supp/smizutan/target-effect/"
   ]
  },
  {
   "cell_type": "markdown",
   "metadata": {},
   "source": [
    "### Data Exploration\n"
   ]
  },
  {
   "cell_type": "code",
   "execution_count": null,
   "metadata": {},
   "outputs": [],
   "source": []
  },
  {
   "cell_type": "code",
   "execution_count": 30,
   "metadata": {},
   "outputs": [
    {
     "name": "stderr",
     "output_type": "stream",
     "text": [
      "/opt/anaconda3/lib/python3.7/site-packages/IPython/core/interactiveshell.py:3058: DtypeWarning: Columns (0,2,4,5,6,7,8,9,10) have mixed types. Specify dtype option on import or set low_memory=False.\n",
      "  interactivity=interactivity, compiler=compiler, result=result)\n"
     ]
    }
   ],
   "source": [
    "#Import off_sides dataset. OFFSIDES- associations before drug approval\n",
    "off_sides=pd.read_csv('data/OFFSIDES.csv.xz.csv', compression='xz', header=0, sep=',', quotechar='\"')"
   ]
  },
  {
   "cell_type": "code",
   "execution_count": 31,
   "metadata": {},
   "outputs": [
    {
     "data": {
      "text/html": [
       "<div>\n",
       "<style scoped>\n",
       "    .dataframe tbody tr th:only-of-type {\n",
       "        vertical-align: middle;\n",
       "    }\n",
       "\n",
       "    .dataframe tbody tr th {\n",
       "        vertical-align: top;\n",
       "    }\n",
       "\n",
       "    .dataframe thead th {\n",
       "        text-align: right;\n",
       "    }\n",
       "</style>\n",
       "<table border=\"1\" class=\"dataframe\">\n",
       "  <thead>\n",
       "    <tr style=\"text-align: right;\">\n",
       "      <th></th>\n",
       "      <th>drug_rxnorn_id</th>\n",
       "      <th>drug_concept_name</th>\n",
       "      <th>condition_meddra_id</th>\n",
       "      <th>condition_concept_name</th>\n",
       "      <th>A</th>\n",
       "      <th>B</th>\n",
       "      <th>C</th>\n",
       "      <th>D</th>\n",
       "      <th>PRR</th>\n",
       "      <th>PRR_error</th>\n",
       "      <th>mean_reporting_frequency</th>\n",
       "    </tr>\n",
       "  </thead>\n",
       "  <tbody>\n",
       "    <tr>\n",
       "      <td>0</td>\n",
       "      <td>4024</td>\n",
       "      <td>ergoloid mesylates, USP</td>\n",
       "      <td>10002034</td>\n",
       "      <td>Anaemia</td>\n",
       "      <td>6</td>\n",
       "      <td>126</td>\n",
       "      <td>21</td>\n",
       "      <td>1299</td>\n",
       "      <td>2.85714</td>\n",
       "      <td>0.45382</td>\n",
       "      <td>0.0454545</td>\n",
       "    </tr>\n",
       "    <tr>\n",
       "      <td>1</td>\n",
       "      <td>4024</td>\n",
       "      <td>ergoloid mesylates, USP</td>\n",
       "      <td>10002965</td>\n",
       "      <td>Aplasia pure red cell</td>\n",
       "      <td>1</td>\n",
       "      <td>131</td>\n",
       "      <td>1</td>\n",
       "      <td>1319</td>\n",
       "      <td>10</td>\n",
       "      <td>1.41126</td>\n",
       "      <td>0.00757576</td>\n",
       "    </tr>\n",
       "    <tr>\n",
       "      <td>2</td>\n",
       "      <td>4024</td>\n",
       "      <td>ergoloid mesylates, USP</td>\n",
       "      <td>10013442</td>\n",
       "      <td>Disseminated intravascular coagulation</td>\n",
       "      <td>1</td>\n",
       "      <td>131</td>\n",
       "      <td>6</td>\n",
       "      <td>1314</td>\n",
       "      <td>1.66667</td>\n",
       "      <td>1.07626</td>\n",
       "      <td>0.00757576</td>\n",
       "    </tr>\n",
       "    <tr>\n",
       "      <td>3</td>\n",
       "      <td>4024</td>\n",
       "      <td>ergoloid mesylates, USP</td>\n",
       "      <td>10023126</td>\n",
       "      <td>Jaundice</td>\n",
       "      <td>2</td>\n",
       "      <td>130</td>\n",
       "      <td>7</td>\n",
       "      <td>1313</td>\n",
       "      <td>2.85714</td>\n",
       "      <td>0.79657</td>\n",
       "      <td>0.0151515</td>\n",
       "    </tr>\n",
       "    <tr>\n",
       "      <td>4</td>\n",
       "      <td>4024</td>\n",
       "      <td>ergoloid mesylates, USP</td>\n",
       "      <td>10016288</td>\n",
       "      <td>Febrile neutropenia</td>\n",
       "      <td>1</td>\n",
       "      <td>131</td>\n",
       "      <td>5</td>\n",
       "      <td>1315</td>\n",
       "      <td>2</td>\n",
       "      <td>1.09163</td>\n",
       "      <td>0.00757576</td>\n",
       "    </tr>\n",
       "  </tbody>\n",
       "</table>\n",
       "</div>"
      ],
      "text/plain": [
       "  drug_rxnorn_id        drug_concept_name condition_meddra_id  \\\n",
       "0           4024  ergoloid mesylates, USP            10002034   \n",
       "1           4024  ergoloid mesylates, USP            10002965   \n",
       "2           4024  ergoloid mesylates, USP            10013442   \n",
       "3           4024  ergoloid mesylates, USP            10023126   \n",
       "4           4024  ergoloid mesylates, USP            10016288   \n",
       "\n",
       "                   condition_concept_name  A    B   C     D      PRR  \\\n",
       "0                                 Anaemia  6  126  21  1299  2.85714   \n",
       "1                   Aplasia pure red cell  1  131   1  1319       10   \n",
       "2  Disseminated intravascular coagulation  1  131   6  1314  1.66667   \n",
       "3                                Jaundice  2  130   7  1313  2.85714   \n",
       "4                     Febrile neutropenia  1  131   5  1315        2   \n",
       "\n",
       "  PRR_error mean_reporting_frequency  \n",
       "0   0.45382                0.0454545  \n",
       "1   1.41126               0.00757576  \n",
       "2   1.07626               0.00757576  \n",
       "3   0.79657                0.0151515  \n",
       "4   1.09163               0.00757576  "
      ]
     },
     "execution_count": 31,
     "metadata": {},
     "output_type": "execute_result"
    }
   ],
   "source": [
    "off_sides.head()"
   ]
  },
  {
   "cell_type": "code",
   "execution_count": 32,
   "metadata": {},
   "outputs": [
    {
     "name": "stderr",
     "output_type": "stream",
     "text": [
      "/opt/anaconda3/lib/python3.7/site-packages/IPython/core/interactiveshell.py:3058: DtypeWarning: Columns (0,2,4,6,7,8,9,10,11,12) have mixed types. Specify dtype option on import or set low_memory=False.\n",
      "  interactivity=interactivity, compiler=compiler, result=result)\n"
     ]
    }
   ],
   "source": [
    "#Import two sides dataset. TWOSIDES - data of side effects of pairs of drugs\n",
    "two_sides=pd.read_csv('data/TWOSIDES.csv.xz.csv', compression='xz', header=0, sep=',', quotechar='\"')"
   ]
  },
  {
   "cell_type": "code",
   "execution_count": 33,
   "metadata": {},
   "outputs": [
    {
     "data": {
      "text/html": [
       "<div>\n",
       "<style scoped>\n",
       "    .dataframe tbody tr th:only-of-type {\n",
       "        vertical-align: middle;\n",
       "    }\n",
       "\n",
       "    .dataframe tbody tr th {\n",
       "        vertical-align: top;\n",
       "    }\n",
       "\n",
       "    .dataframe thead th {\n",
       "        text-align: right;\n",
       "    }\n",
       "</style>\n",
       "<table border=\"1\" class=\"dataframe\">\n",
       "  <thead>\n",
       "    <tr style=\"text-align: right;\">\n",
       "      <th></th>\n",
       "      <th>drug_1_rxnorn_id</th>\n",
       "      <th>drug_1_concept_name</th>\n",
       "      <th>drug_2_rxnorm_id</th>\n",
       "      <th>drug_2_concept_name</th>\n",
       "      <th>condition_meddra_id</th>\n",
       "      <th>condition_concept_name</th>\n",
       "      <th>A</th>\n",
       "      <th>B</th>\n",
       "      <th>C</th>\n",
       "      <th>D</th>\n",
       "      <th>PRR</th>\n",
       "      <th>PRR_error</th>\n",
       "      <th>mean_reporting_frequency</th>\n",
       "    </tr>\n",
       "  </thead>\n",
       "  <tbody>\n",
       "    <tr>\n",
       "      <td>0</td>\n",
       "      <td>10355</td>\n",
       "      <td>Temazepam</td>\n",
       "      <td>136411</td>\n",
       "      <td>sildenafil</td>\n",
       "      <td>10003239</td>\n",
       "      <td>Arthralgia</td>\n",
       "      <td>7</td>\n",
       "      <td>149</td>\n",
       "      <td>24</td>\n",
       "      <td>1536</td>\n",
       "      <td>2.91667</td>\n",
       "      <td>0.421275</td>\n",
       "      <td>0.0448718</td>\n",
       "    </tr>\n",
       "    <tr>\n",
       "      <td>1</td>\n",
       "      <td>1808</td>\n",
       "      <td>Bumetanide</td>\n",
       "      <td>7824</td>\n",
       "      <td>Oxytocin</td>\n",
       "      <td>10003239</td>\n",
       "      <td>Arthralgia</td>\n",
       "      <td>1</td>\n",
       "      <td>13</td>\n",
       "      <td>2</td>\n",
       "      <td>138</td>\n",
       "      <td>5.0</td>\n",
       "      <td>1.19224</td>\n",
       "      <td>0.0714286</td>\n",
       "    </tr>\n",
       "    <tr>\n",
       "      <td>2</td>\n",
       "      <td>221147</td>\n",
       "      <td>POLYETHYLENE GLYCOL 3350</td>\n",
       "      <td>5521</td>\n",
       "      <td>Hydroxychloroquine</td>\n",
       "      <td>10003239</td>\n",
       "      <td>Arthralgia</td>\n",
       "      <td>6</td>\n",
       "      <td>103</td>\n",
       "      <td>20</td>\n",
       "      <td>1070</td>\n",
       "      <td>3.0</td>\n",
       "      <td>0.454505</td>\n",
       "      <td>0.0550459</td>\n",
       "    </tr>\n",
       "    <tr>\n",
       "      <td>3</td>\n",
       "      <td>10324</td>\n",
       "      <td>Tamoxifen</td>\n",
       "      <td>8640</td>\n",
       "      <td>Prednisone</td>\n",
       "      <td>10012735</td>\n",
       "      <td>Diarrhoea</td>\n",
       "      <td>18</td>\n",
       "      <td>123</td>\n",
       "      <td>35</td>\n",
       "      <td>1375</td>\n",
       "      <td>5.14286</td>\n",
       "      <td>0.276271</td>\n",
       "      <td>0.12766</td>\n",
       "    </tr>\n",
       "    <tr>\n",
       "      <td>4</td>\n",
       "      <td>10355</td>\n",
       "      <td>Temazepam</td>\n",
       "      <td>136411</td>\n",
       "      <td>sildenafil</td>\n",
       "      <td>10012735</td>\n",
       "      <td>Diarrhoea</td>\n",
       "      <td>2</td>\n",
       "      <td>154</td>\n",
       "      <td>37</td>\n",
       "      <td>1523</td>\n",
       "      <td>0.540541</td>\n",
       "      <td>0.721093</td>\n",
       "      <td>0.0128205</td>\n",
       "    </tr>\n",
       "  </tbody>\n",
       "</table>\n",
       "</div>"
      ],
      "text/plain": [
       "  drug_1_rxnorn_id       drug_1_concept_name drug_2_rxnorm_id  \\\n",
       "0            10355                 Temazepam           136411   \n",
       "1             1808                Bumetanide             7824   \n",
       "2           221147  POLYETHYLENE GLYCOL 3350             5521   \n",
       "3            10324                 Tamoxifen             8640   \n",
       "4            10355                 Temazepam           136411   \n",
       "\n",
       "  drug_2_concept_name condition_meddra_id condition_concept_name   A    B   C  \\\n",
       "0          sildenafil            10003239             Arthralgia   7  149  24   \n",
       "1            Oxytocin            10003239             Arthralgia   1   13   2   \n",
       "2  Hydroxychloroquine            10003239             Arthralgia   6  103  20   \n",
       "3          Prednisone            10012735              Diarrhoea  18  123  35   \n",
       "4          sildenafil            10012735              Diarrhoea   2  154  37   \n",
       "\n",
       "      D       PRR PRR_error mean_reporting_frequency  \n",
       "0  1536   2.91667  0.421275                0.0448718  \n",
       "1   138       5.0   1.19224                0.0714286  \n",
       "2  1070       3.0  0.454505                0.0550459  \n",
       "3  1375   5.14286  0.276271                  0.12766  \n",
       "4  1523  0.540541  0.721093                0.0128205  "
      ]
     },
     "execution_count": 33,
     "metadata": {},
     "output_type": "execute_result"
    }
   ],
   "source": [
    "two_sides.head()"
   ]
  },
  {
   "cell_type": "markdown",
   "metadata": {},
   "source": [
    "how many drug-drug interactions"
   ]
  },
  {
   "cell_type": "markdown",
   "metadata": {},
   "source": [
    "q to michael:  two_sides have side effect for the 2 drugs already. how are we going to merge the chemical substru"
   ]
  },
  {
   "cell_type": "code",
   "execution_count": 37,
   "metadata": {},
   "outputs": [],
   "source": [
    "side_effect_binary=pd.read_csv('data/source_codes_and_datasets_2015-09-05/Liu_dataset_and_experiments/Liu_dataset/merged_data/random_group_cv_data.indication', sep = '\\t', delimiter = '|', engine= 'python', header = None)"
   ]
  },
  {
   "cell_type": "code",
   "execution_count": 39,
   "metadata": {},
   "outputs": [],
   "source": [
    "side_effect_binary.columns=['drugBankID', 'drugName', 'compoundID', 'ADE_str', 'chem_str', \\\n",
    "                           'target_gene', 'transporter', 'enzyme', 'kgg', 'indication', \\\n",
    "                           'group_str']"
   ]
  },
  {
   "cell_type": "code",
   "execution_count": 40,
   "metadata": {},
   "outputs": [
    {
     "data": {
      "text/html": [
       "<div>\n",
       "<style scoped>\n",
       "    .dataframe tbody tr th:only-of-type {\n",
       "        vertical-align: middle;\n",
       "    }\n",
       "\n",
       "    .dataframe tbody tr th {\n",
       "        vertical-align: top;\n",
       "    }\n",
       "\n",
       "    .dataframe thead th {\n",
       "        text-align: right;\n",
       "    }\n",
       "</style>\n",
       "<table border=\"1\" class=\"dataframe\">\n",
       "  <thead>\n",
       "    <tr style=\"text-align: right;\">\n",
       "      <th></th>\n",
       "      <th>drugBankID</th>\n",
       "      <th>drugName</th>\n",
       "      <th>compoundID</th>\n",
       "      <th>ADE_str</th>\n",
       "      <th>chem_str</th>\n",
       "      <th>target_gene</th>\n",
       "      <th>transporter</th>\n",
       "      <th>enzyme</th>\n",
       "      <th>kgg</th>\n",
       "      <th>indication</th>\n",
       "      <th>group_str</th>\n",
       "    </tr>\n",
       "  </thead>\n",
       "  <tbody>\n",
       "    <tr>\n",
       "      <td>0</td>\n",
       "      <td>DB00220</td>\n",
       "      <td>nelfinavir</td>\n",
       "      <td>4451</td>\n",
       "      <td>0010000000000000000000000000000000001000000000...</td>\n",
       "      <td>0000111111111110000111000000000000000010000000...</td>\n",
       "      <td>0000000000000000000000000000000000000000000000...</td>\n",
       "      <td>0000000000000000100001000000000000000000000000...</td>\n",
       "      <td>0000000000000000000000000000000000000000010000...</td>\n",
       "      <td>0000000000000000000000000000000000000000000000...</td>\n",
       "      <td>0000000000000000000000000000000100000000000000...</td>\n",
       "      <td>3,0,0,2,4,2,3,4,0,3,2,0,4,2,3,3,3,0,2,3,4,4,4,...</td>\n",
       "    </tr>\n",
       "    <tr>\n",
       "      <td>1</td>\n",
       "      <td>DB01340</td>\n",
       "      <td>cilazapril</td>\n",
       "      <td>2751</td>\n",
       "      <td>0010000000000000000100000001000000001010000000...</td>\n",
       "      <td>0000011111011110000111000000000000000000000000...</td>\n",
       "      <td>0000000000000000000000000000000000000000000000...</td>\n",
       "      <td>0000000000000000000000000000000000000000000000...</td>\n",
       "      <td>0000000000000000000000000000000000000000000000...</td>\n",
       "      <td>0000000000000000000000000000000000000000010000...</td>\n",
       "      <td>0000000000000000000000000000000000000000000000...</td>\n",
       "      <td>4,2,3,4,4,2,1,4,0,4,4,4,2,2,3,0,2,0,0,3,3,1,3,...</td>\n",
       "    </tr>\n",
       "    <tr>\n",
       "      <td>2</td>\n",
       "      <td>DB01595</td>\n",
       "      <td>nitrazepam</td>\n",
       "      <td>4506</td>\n",
       "      <td>0000000000000000000101000000000000000000000000...</td>\n",
       "      <td>0000001111001110000011000000000000000000000000...</td>\n",
       "      <td>0000000000000000000000000001111000000000000000...</td>\n",
       "      <td>0000000000000000000000000000000000000000000000...</td>\n",
       "      <td>0000000000000000000000000000000000000000000000...</td>\n",
       "      <td>0000000000000000000000000000000000000000000000...</td>\n",
       "      <td>0000000000000000000000000000000000000000000000...</td>\n",
       "      <td>4,4,2,0,1,1,3,2,3,3,0,1,0,3,3,4,1,4,3,4,3,0,1,...</td>\n",
       "    </tr>\n",
       "    <tr>\n",
       "      <td>3</td>\n",
       "      <td>DB00900</td>\n",
       "      <td>didanosine</td>\n",
       "      <td>3043</td>\n",
       "      <td>0010000010000000000000000001000000001000000000...</td>\n",
       "      <td>0000001111001110000011010000000000000000000000...</td>\n",
       "      <td>0000000000000000000000000000000000000000000000...</td>\n",
       "      <td>0000000000000000000000000000000000000000000000...</td>\n",
       "      <td>0000000000000000000000000000000000000000000000...</td>\n",
       "      <td>0000000000001000000000000000000000000000000000...</td>\n",
       "      <td>0000000000000000000000000000000100000000000000...</td>\n",
       "      <td>4,4,2,2,0,0,0,2,2,4,2,4,1,2,1,0,4,3,0,4,4,2,2,...</td>\n",
       "    </tr>\n",
       "    <tr>\n",
       "      <td>4</td>\n",
       "      <td>DB01062</td>\n",
       "      <td>oxybutynin</td>\n",
       "      <td>4634</td>\n",
       "      <td>0010000000000000000000000000000010000000000000...</td>\n",
       "      <td>0000011101011110000011000000000000000000000000...</td>\n",
       "      <td>0000000000000000000000000000000000000000000000...</td>\n",
       "      <td>0000000000000000000000000000000000000000000000...</td>\n",
       "      <td>0000000000000000000000000000000000000000000000...</td>\n",
       "      <td>0000000000000000000000000000000100100000000000...</td>\n",
       "      <td>0000000000000000000000000000000000000000000000...</td>\n",
       "      <td>2,0,4,0,3,1,2,4,0,2,4,1,4,2,0,3,4,2,1,4,3,0,3,...</td>\n",
       "    </tr>\n",
       "  </tbody>\n",
       "</table>\n",
       "</div>"
      ],
      "text/plain": [
       "  drugBankID    drugName  compoundID  \\\n",
       "0    DB00220  nelfinavir        4451   \n",
       "1    DB01340  cilazapril        2751   \n",
       "2    DB01595  nitrazepam        4506   \n",
       "3    DB00900  didanosine        3043   \n",
       "4    DB01062  oxybutynin        4634   \n",
       "\n",
       "                                             ADE_str  \\\n",
       "0  0010000000000000000000000000000000001000000000...   \n",
       "1  0010000000000000000100000001000000001010000000...   \n",
       "2  0000000000000000000101000000000000000000000000...   \n",
       "3  0010000010000000000000000001000000001000000000...   \n",
       "4  0010000000000000000000000000000010000000000000...   \n",
       "\n",
       "                                            chem_str  \\\n",
       "0  0000111111111110000111000000000000000010000000...   \n",
       "1  0000011111011110000111000000000000000000000000...   \n",
       "2  0000001111001110000011000000000000000000000000...   \n",
       "3  0000001111001110000011010000000000000000000000...   \n",
       "4  0000011101011110000011000000000000000000000000...   \n",
       "\n",
       "                                         target_gene  \\\n",
       "0  0000000000000000000000000000000000000000000000...   \n",
       "1  0000000000000000000000000000000000000000000000...   \n",
       "2  0000000000000000000000000001111000000000000000...   \n",
       "3  0000000000000000000000000000000000000000000000...   \n",
       "4  0000000000000000000000000000000000000000000000...   \n",
       "\n",
       "                                         transporter  \\\n",
       "0  0000000000000000100001000000000000000000000000...   \n",
       "1  0000000000000000000000000000000000000000000000...   \n",
       "2  0000000000000000000000000000000000000000000000...   \n",
       "3  0000000000000000000000000000000000000000000000...   \n",
       "4  0000000000000000000000000000000000000000000000...   \n",
       "\n",
       "                                              enzyme  \\\n",
       "0  0000000000000000000000000000000000000000010000...   \n",
       "1  0000000000000000000000000000000000000000000000...   \n",
       "2  0000000000000000000000000000000000000000000000...   \n",
       "3  0000000000000000000000000000000000000000000000...   \n",
       "4  0000000000000000000000000000000000000000000000...   \n",
       "\n",
       "                                                 kgg  \\\n",
       "0  0000000000000000000000000000000000000000000000...   \n",
       "1  0000000000000000000000000000000000000000010000...   \n",
       "2  0000000000000000000000000000000000000000000000...   \n",
       "3  0000000000001000000000000000000000000000000000...   \n",
       "4  0000000000000000000000000000000100100000000000...   \n",
       "\n",
       "                                          indication  \\\n",
       "0  0000000000000000000000000000000100000000000000...   \n",
       "1  0000000000000000000000000000000000000000000000...   \n",
       "2  0000000000000000000000000000000000000000000000...   \n",
       "3  0000000000000000000000000000000100000000000000...   \n",
       "4  0000000000000000000000000000000000000000000000...   \n",
       "\n",
       "                                           group_str  \n",
       "0  3,0,0,2,4,2,3,4,0,3,2,0,4,2,3,3,3,0,2,3,4,4,4,...  \n",
       "1  4,2,3,4,4,2,1,4,0,4,4,4,2,2,3,0,2,0,0,3,3,1,3,...  \n",
       "2  4,4,2,0,1,1,3,2,3,3,0,1,0,3,3,4,1,4,3,4,3,0,1,...  \n",
       "3  4,4,2,2,0,0,0,2,2,4,2,4,1,2,1,0,4,3,0,4,4,2,2,...  \n",
       "4  2,0,4,0,3,1,2,4,0,2,4,1,4,2,0,3,4,2,1,4,3,0,3,...  "
      ]
     },
     "execution_count": 40,
     "metadata": {},
     "output_type": "execute_result"
    }
   ],
   "source": [
    "side_effect_binary.head()"
   ]
  },
  {
   "cell_type": "code",
   "execution_count": null,
   "metadata": {},
   "outputs": [],
   "source": [
    "#remove group_str from side_effect_binary"
   ]
  },
  {
   "cell_type": "code",
   "execution_count": null,
   "metadata": {},
   "outputs": [],
   "source": [
    "#merge side_effect_binary with drug_meddra"
   ]
  },
  {
   "cell_type": "code",
   "execution_count": null,
   "metadata": {},
   "outputs": [],
   "source": []
  },
  {
   "cell_type": "markdown",
   "metadata": {},
   "source": [
    "ADE= adverse drug event"
   ]
  },
  {
   "cell_type": "code",
   "execution_count": null,
   "metadata": {},
   "outputs": [],
   "source": [
    "#merge TWO_sides with side_effect_binary data"
   ]
  },
  {
   "cell_type": "code",
   "execution_count": null,
   "metadata": {},
   "outputs": [],
   "source": []
  },
  {
   "cell_type": "markdown",
   "metadata": {},
   "source": [
    "### Load DrugBank dataset if access provided"
   ]
  },
  {
   "cell_type": "code",
   "execution_count": null,
   "metadata": {},
   "outputs": [],
   "source": [
    "#import DrugBank dataset\n",
    "import xml.etree.ElementTree as et "
   ]
  },
  {
   "cell_type": "code",
   "execution_count": null,
   "metadata": {},
   "outputs": [],
   "source": [
    "xtree = et.parse(\"data/fu\")\n",
    "pd.read_table('data/')"
   ]
  },
  {
   "cell_type": "code",
   "execution_count": null,
   "metadata": {},
   "outputs": [],
   "source": [
    "def parse_XML(xml_file, df_cols): \n",
    "    \"\"\"Parse the input XML file and store the result in a pandas \n",
    "    DataFrame with the given columns. \n",
    "    \n",
    "    The first element of df_cols is supposed to be the identifier \n",
    "    variable, which is an attribute of each node element in the \n",
    "    XML data; other features will be parsed from the text content \n",
    "    of each sub-element. \n",
    "    \"\"\"\n",
    "    \n",
    "    xtree = et.parse(xml_file)\n",
    "    xroot = xtree.getroot()\n",
    "    rows = []\n",
    "    \n",
    "    for node in xroot: \n",
    "        res = []\n",
    "        res.append(node.attrib.get(df_cols[0]))\n",
    "        for el in df_cols[1:]: \n",
    "            if node is not None and node.find(el) is not None:\n",
    "                res.append(node.find(el).text)\n",
    "            else: \n",
    "                res.append(None)\n",
    "        rows.append({df_cols[i]: res[i] \n",
    "                     for i, _ in enumerate(df_cols)})\n",
    "    \n",
    "    out_df = pd.DataFrame(rows, columns=df_cols)\n",
    "        \n",
    "    return out_df"
   ]
  },
  {
   "cell_type": "code",
   "execution_count": null,
   "metadata": {},
   "outputs": [],
   "source": [
    "parse_XML(\"data/full_drugbank_database.xml\", ['name', 'id', 'description', 'cas-number'])"
   ]
  },
  {
   "cell_type": "code",
   "execution_count": null,
   "metadata": {},
   "outputs": [],
   "source": []
  }
 ],
 "metadata": {
  "kernelspec": {
   "display_name": "Python 3",
   "language": "python",
   "name": "python3"
  },
  "language_info": {
   "codemirror_mode": {
    "name": "ipython",
    "version": 3
   },
   "file_extension": ".py",
   "mimetype": "text/x-python",
   "name": "python",
   "nbconvert_exporter": "python",
   "pygments_lexer": "ipython3",
   "version": "3.7.4"
  }
 },
 "nbformat": 4,
 "nbformat_minor": 2
}
