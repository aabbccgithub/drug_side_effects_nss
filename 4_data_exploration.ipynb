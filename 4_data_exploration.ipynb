{
 "cells": [
  {
   "cell_type": "code",
   "execution_count": 13,
   "metadata": {},
   "outputs": [],
   "source": [
    "# Import libraries\n",
    "import pandas as pd\n",
    "from pandas import DataFrame\n",
    "import numpy as np\n",
    "import seaborn as sns\n",
    "#pd.set_option('display.max_columns', None)  \n",
    "#pd.set_option('display.max_rows', None)"
   ]
  },
  {
   "cell_type": "code",
   "execution_count": 3,
   "metadata": {},
   "outputs": [
    {
     "name": "stderr",
     "output_type": "stream",
     "text": [
      "/opt/anaconda3/lib/python3.7/site-packages/IPython/core/interactiveshell.py:3058: DtypeWarning: Columns (0,2,4,6,7,8,9,10,11,12) have mixed types. Specify dtype option on import or set low_memory=False.\n",
      "  interactivity=interactivity, compiler=compiler, result=result)\n"
     ]
    }
   ],
   "source": [
    "two_sides_full=pd.read_csv('data/TWOSIDES.csv.xz.csv', compression='xz', \\\n",
    "                          header=0, sep=',', quotechar='\"')"
   ]
  },
  {
   "cell_type": "code",
   "execution_count": 4,
   "metadata": {},
   "outputs": [],
   "source": [
    "two_sides=two_sides_full.drop(['A', 'B', 'C', 'D', 'PRR', 'PRR_error', \\\n",
    "                              'mean_reporting_frequency', 'drug_1_rxnorn_id', \\\n",
    "                              'drug_2_rxnorm_id', 'condition_meddra_id'], axis=1)"
   ]
  },
  {
   "cell_type": "code",
   "execution_count": 5,
   "metadata": {},
   "outputs": [],
   "source": [
    "two_sides.columns=['drug_1', 'drug_2', 'condn_name']"
   ]
  },
  {
   "cell_type": "code",
   "execution_count": 6,
   "metadata": {},
   "outputs": [],
   "source": [
    "two_sides=two_sides.drop_duplicates(subset=['drug_1', 'drug_2', 'condn_name'])"
   ]
  },
  {
   "cell_type": "code",
   "execution_count": 20,
   "metadata": {},
   "outputs": [
    {
     "data": {
      "text/plain": [
       "12726"
      ]
     },
     "execution_count": 20,
     "metadata": {},
     "output_type": "execute_result"
    }
   ],
   "source": [
    "two_sides.condn_name.nunique()"
   ]
  },
  {
   "cell_type": "code",
   "execution_count": null,
   "metadata": {},
   "outputs": [],
   "source": [
    "two_sides.to_csv(index=False)"
   ]
  },
  {
   "cell_type": "code",
   "execution_count": 7,
   "metadata": {},
   "outputs": [],
   "source": [
    "two_sides_r=two_sides.query('condn_name==\"Nausea\" | condn_name ==\"Dyspnoea\" | \\\n",
    "condn_name ==\"Diarrhoea\" | condn_name ==\"Vomiting\" | condn_name ==\"Pyrexia\" | \\\n",
    "condn_name ==\"Pneumonia\"')"
   ]
  },
  {
   "cell_type": "code",
   "execution_count": 34,
   "metadata": {},
   "outputs": [
    {
     "data": {
      "text/html": [
       "<div>\n",
       "<style scoped>\n",
       "    .dataframe tbody tr th:only-of-type {\n",
       "        vertical-align: middle;\n",
       "    }\n",
       "\n",
       "    .dataframe tbody tr th {\n",
       "        vertical-align: top;\n",
       "    }\n",
       "\n",
       "    .dataframe thead th {\n",
       "        text-align: right;\n",
       "    }\n",
       "</style>\n",
       "<table border=\"1\" class=\"dataframe\">\n",
       "  <thead>\n",
       "    <tr style=\"text-align: right;\">\n",
       "      <th></th>\n",
       "      <th>drug_1</th>\n",
       "      <th>drug_2</th>\n",
       "      <th>condn_name</th>\n",
       "    </tr>\n",
       "  </thead>\n",
       "  <tbody>\n",
       "    <tr>\n",
       "      <td>58040</td>\n",
       "      <td>Aspirin</td>\n",
       "      <td>nabumetone</td>\n",
       "      <td>Anaemia</td>\n",
       "    </tr>\n",
       "    <tr>\n",
       "      <td>58041</td>\n",
       "      <td>Aspirin</td>\n",
       "      <td>nabumetone</td>\n",
       "      <td>Aplasia pure red cell</td>\n",
       "    </tr>\n",
       "    <tr>\n",
       "      <td>58042</td>\n",
       "      <td>Aspirin</td>\n",
       "      <td>nabumetone</td>\n",
       "      <td>Aplastic anaemia</td>\n",
       "    </tr>\n",
       "    <tr>\n",
       "      <td>58043</td>\n",
       "      <td>Aspirin</td>\n",
       "      <td>nabumetone</td>\n",
       "      <td>Pancytopenia</td>\n",
       "    </tr>\n",
       "    <tr>\n",
       "      <td>58044</td>\n",
       "      <td>Aspirin</td>\n",
       "      <td>nabumetone</td>\n",
       "      <td>Ecchymosis</td>\n",
       "    </tr>\n",
       "    <tr>\n",
       "      <td>58045</td>\n",
       "      <td>Aspirin</td>\n",
       "      <td>nabumetone</td>\n",
       "      <td>Petechiae</td>\n",
       "    </tr>\n",
       "    <tr>\n",
       "      <td>58046</td>\n",
       "      <td>Aspirin</td>\n",
       "      <td>nabumetone</td>\n",
       "      <td>Disseminated intravascular coagulation</td>\n",
       "    </tr>\n",
       "    <tr>\n",
       "      <td>58047</td>\n",
       "      <td>Aspirin</td>\n",
       "      <td>nabumetone</td>\n",
       "      <td>Purpura</td>\n",
       "    </tr>\n",
       "    <tr>\n",
       "      <td>58048</td>\n",
       "      <td>Aspirin</td>\n",
       "      <td>nabumetone</td>\n",
       "      <td>Sickle cell anaemia</td>\n",
       "    </tr>\n",
       "    <tr>\n",
       "      <td>58049</td>\n",
       "      <td>Aspirin</td>\n",
       "      <td>nabumetone</td>\n",
       "      <td>Non-Hodgkin's lymphoma</td>\n",
       "    </tr>\n",
       "  </tbody>\n",
       "</table>\n",
       "</div>"
      ],
      "text/plain": [
       "        drug_1      drug_2                              condn_name\n",
       "58040  Aspirin  nabumetone                                 Anaemia\n",
       "58041  Aspirin  nabumetone                   Aplasia pure red cell\n",
       "58042  Aspirin  nabumetone                        Aplastic anaemia\n",
       "58043  Aspirin  nabumetone                            Pancytopenia\n",
       "58044  Aspirin  nabumetone                              Ecchymosis\n",
       "58045  Aspirin  nabumetone                               Petechiae\n",
       "58046  Aspirin  nabumetone  Disseminated intravascular coagulation\n",
       "58047  Aspirin  nabumetone                                 Purpura\n",
       "58048  Aspirin  nabumetone                     Sickle cell anaemia\n",
       "58049  Aspirin  nabumetone                  Non-Hodgkin's lymphoma"
      ]
     },
     "execution_count": 34,
     "metadata": {},
     "output_type": "execute_result"
    }
   ],
   "source": [
    "aspirin.head(10)"
   ]
  },
  {
   "cell_type": "code",
   "execution_count": 8,
   "metadata": {},
   "outputs": [],
   "source": [
    "common_sideeffects=two_sides.groupby('condn_name').condn_name.count()\\\n",
    ".sort_values(ascending=False)"
   ]
  },
  {
   "cell_type": "code",
   "execution_count": 9,
   "metadata": {},
   "outputs": [],
   "source": [
    "common_sideeffects=common_sideeffects.to_frame()\n",
    "common_sideeffects=common_sideeffects.rename(columns={'condn_name': 'count'}).reset_index()"
   ]
  },
  {
   "cell_type": "code",
   "execution_count": 10,
   "metadata": {},
   "outputs": [
    {
     "name": "stdout",
     "output_type": "stream",
     "text": [
      "<class 'pandas.core.frame.DataFrame'>\n",
      "RangeIndex: 12726 entries, 0 to 12725\n",
      "Data columns (total 2 columns):\n",
      "condn_name    12726 non-null object\n",
      "count         12726 non-null int64\n",
      "dtypes: int64(1), object(1)\n",
      "memory usage: 199.0+ KB\n"
     ]
    }
   ],
   "source": [
    "common_sideeffects.info()"
   ]
  },
  {
   "cell_type": "code",
   "execution_count": 11,
   "metadata": {},
   "outputs": [
    {
     "data": {
      "text/html": [
       "<div>\n",
       "<style scoped>\n",
       "    .dataframe tbody tr th:only-of-type {\n",
       "        vertical-align: middle;\n",
       "    }\n",
       "\n",
       "    .dataframe tbody tr th {\n",
       "        vertical-align: top;\n",
       "    }\n",
       "\n",
       "    .dataframe thead th {\n",
       "        text-align: right;\n",
       "    }\n",
       "</style>\n",
       "<table border=\"1\" class=\"dataframe\">\n",
       "  <thead>\n",
       "    <tr style=\"text-align: right;\">\n",
       "      <th></th>\n",
       "      <th>condn_name</th>\n",
       "      <th>count</th>\n",
       "    </tr>\n",
       "  </thead>\n",
       "  <tbody>\n",
       "    <tr>\n",
       "      <td>0</td>\n",
       "      <td>Nausea</td>\n",
       "      <td>164161</td>\n",
       "    </tr>\n",
       "    <tr>\n",
       "      <td>1</td>\n",
       "      <td>Dyspnoea</td>\n",
       "      <td>159052</td>\n",
       "    </tr>\n",
       "    <tr>\n",
       "      <td>2</td>\n",
       "      <td>Diarrhoea</td>\n",
       "      <td>156584</td>\n",
       "    </tr>\n",
       "    <tr>\n",
       "      <td>3</td>\n",
       "      <td>Vomiting</td>\n",
       "      <td>153055</td>\n",
       "    </tr>\n",
       "    <tr>\n",
       "      <td>4</td>\n",
       "      <td>Pyrexia</td>\n",
       "      <td>148162</td>\n",
       "    </tr>\n",
       "    <tr>\n",
       "      <td>5</td>\n",
       "      <td>Pneumonia</td>\n",
       "      <td>145767</td>\n",
       "    </tr>\n",
       "    <tr>\n",
       "      <td>6</td>\n",
       "      <td>Fatigue</td>\n",
       "      <td>145584</td>\n",
       "    </tr>\n",
       "    <tr>\n",
       "      <td>7</td>\n",
       "      <td>Pain</td>\n",
       "      <td>145118</td>\n",
       "    </tr>\n",
       "    <tr>\n",
       "      <td>8</td>\n",
       "      <td>Anaemia</td>\n",
       "      <td>143740</td>\n",
       "    </tr>\n",
       "    <tr>\n",
       "      <td>9</td>\n",
       "      <td>Headache</td>\n",
       "      <td>138530</td>\n",
       "    </tr>\n",
       "  </tbody>\n",
       "</table>\n",
       "</div>"
      ],
      "text/plain": [
       "  condn_name   count\n",
       "0     Nausea  164161\n",
       "1   Dyspnoea  159052\n",
       "2  Diarrhoea  156584\n",
       "3   Vomiting  153055\n",
       "4    Pyrexia  148162\n",
       "5  Pneumonia  145767\n",
       "6    Fatigue  145584\n",
       "7       Pain  145118\n",
       "8    Anaemia  143740\n",
       "9   Headache  138530"
      ]
     },
     "execution_count": 11,
     "metadata": {},
     "output_type": "execute_result"
    }
   ],
   "source": [
    "common_sideeffects.head(10)"
   ]
  },
  {
   "cell_type": "code",
   "execution_count": 31,
   "metadata": {},
   "outputs": [
    {
     "data": {
      "image/png": "[encoded data removed]",
      "text/plain": [
       "<Figure size 432x288 with 1 Axes>"
      ]
     },
     "metadata": {
      "needs_background": "light"
     },
     "output_type": "display_data"
    }
   ],
   "source": [
    "sns.barplot(x=\"count\", y=\"condn_name\", data=common_sideeffects[0:10]);"
   ]
  },
  {
   "cell_type": "code",
   "execution_count": 22,
   "metadata": {},
   "outputs": [],
   "source": [
    "drug_se=two_sides.groupby(['drug_1', 'drug_2']).condn_name.count().sort_values(ascending=False).reset_index()"
   ]
  },
  {
   "cell_type": "code",
   "execution_count": 24,
   "metadata": {},
   "outputs": [],
   "source": [
    "drug_10=drug_se.head(10)"
   ]
  },
  {
   "cell_type": "code",
   "execution_count": null,
   "metadata": {},
   "outputs": [],
   "source": []
  },
  {
   "cell_type": "code",
   "execution_count": 26,
   "metadata": {},
   "outputs": [
    {
     "name": "stderr",
     "output_type": "stream",
     "text": [
      "/opt/anaconda3/lib/python3.7/site-packages/ipykernel_launcher.py:1: SettingWithCopyWarning: \n",
      "A value is trying to be set on a copy of a slice from a DataFrame.\n",
      "Try using .loc[row_indexer,col_indexer] = value instead\n",
      "\n",
      "See the caveats in the documentation: http://pandas.pydata.org/pandas-docs/stable/user_guide/indexing.html#returning-a-view-versus-a-copy\n",
      "  \"\"\"Entry point for launching an IPython kernel.\n"
     ]
    },
    {
     "data": {
      "text/html": [
       "<div>\n",
       "<style scoped>\n",
       "    .dataframe tbody tr th:only-of-type {\n",
       "        vertical-align: middle;\n",
       "    }\n",
       "\n",
       "    .dataframe tbody tr th {\n",
       "        vertical-align: top;\n",
       "    }\n",
       "\n",
       "    .dataframe thead th {\n",
       "        text-align: right;\n",
       "    }\n",
       "</style>\n",
       "<table border=\"1\" class=\"dataframe\">\n",
       "  <thead>\n",
       "    <tr style=\"text-align: right;\">\n",
       "      <th></th>\n",
       "      <th>drug_1</th>\n",
       "      <th>drug_2</th>\n",
       "      <th>condn_name</th>\n",
       "      <th>drug_pair</th>\n",
       "    </tr>\n",
       "  </thead>\n",
       "  <tbody>\n",
       "    <tr>\n",
       "      <td>0</td>\n",
       "      <td>Aspirin</td>\n",
       "      <td>Simvastatin</td>\n",
       "      <td>5700</td>\n",
       "      <td>Aspirin-Simvastatin</td>\n",
       "    </tr>\n",
       "    <tr>\n",
       "      <td>1</td>\n",
       "      <td>Aspirin</td>\n",
       "      <td>Metoprolol</td>\n",
       "      <td>5625</td>\n",
       "      <td>Aspirin-Metoprolol</td>\n",
       "    </tr>\n",
       "    <tr>\n",
       "      <td>2</td>\n",
       "      <td>Aspirin</td>\n",
       "      <td>Furosemide</td>\n",
       "      <td>5590</td>\n",
       "      <td>Aspirin-Furosemide</td>\n",
       "    </tr>\n",
       "    <tr>\n",
       "      <td>3</td>\n",
       "      <td>Aspirin</td>\n",
       "      <td>atorvastatin</td>\n",
       "      <td>5579</td>\n",
       "      <td>Aspirin-atorvastatin</td>\n",
       "    </tr>\n",
       "    <tr>\n",
       "      <td>4</td>\n",
       "      <td>Aspirin</td>\n",
       "      <td>Omeprazole</td>\n",
       "      <td>5125</td>\n",
       "      <td>Aspirin-Omeprazole</td>\n",
       "    </tr>\n",
       "    <tr>\n",
       "      <td>5</td>\n",
       "      <td>Folic Acid</td>\n",
       "      <td>Methotrexate</td>\n",
       "      <td>5120</td>\n",
       "      <td>Folic Acid-Methotrexate</td>\n",
       "    </tr>\n",
       "    <tr>\n",
       "      <td>6</td>\n",
       "      <td>Amlodipine</td>\n",
       "      <td>Aspirin</td>\n",
       "      <td>5117</td>\n",
       "      <td>Amlodipine-Aspirin</td>\n",
       "    </tr>\n",
       "    <tr>\n",
       "      <td>7</td>\n",
       "      <td>Aspirin</td>\n",
       "      <td>Acetaminophen</td>\n",
       "      <td>5062</td>\n",
       "      <td>Aspirin-Acetaminophen</td>\n",
       "    </tr>\n",
       "    <tr>\n",
       "      <td>8</td>\n",
       "      <td>Aspirin</td>\n",
       "      <td>clopidogrel</td>\n",
       "      <td>5035</td>\n",
       "      <td>Aspirin-clopidogrel</td>\n",
       "    </tr>\n",
       "    <tr>\n",
       "      <td>9</td>\n",
       "      <td>Aspirin</td>\n",
       "      <td>Lisinopril</td>\n",
       "      <td>5016</td>\n",
       "      <td>Aspirin-Lisinopril</td>\n",
       "    </tr>\n",
       "  </tbody>\n",
       "</table>\n",
       "</div>"
      ],
      "text/plain": [
       "       drug_1         drug_2  condn_name                drug_pair\n",
       "0     Aspirin    Simvastatin        5700      Aspirin-Simvastatin\n",
       "1     Aspirin     Metoprolol        5625       Aspirin-Metoprolol\n",
       "2     Aspirin     Furosemide        5590       Aspirin-Furosemide\n",
       "3     Aspirin   atorvastatin        5579     Aspirin-atorvastatin\n",
       "4     Aspirin     Omeprazole        5125       Aspirin-Omeprazole\n",
       "5  Folic Acid   Methotrexate        5120  Folic Acid-Methotrexate\n",
       "6  Amlodipine        Aspirin        5117       Amlodipine-Aspirin\n",
       "7     Aspirin  Acetaminophen        5062    Aspirin-Acetaminophen\n",
       "8     Aspirin    clopidogrel        5035      Aspirin-clopidogrel\n",
       "9     Aspirin     Lisinopril        5016       Aspirin-Lisinopril"
      ]
     },
     "execution_count": 26,
     "metadata": {},
     "output_type": "execute_result"
    }
   ],
   "source": [
    "drug_10['drug_pair'] = drug_10['drug_1'].str.cat(drug_10['drug_2'],sep=\"-\")\n",
    "drug_10"
   ]
  },
  {
   "cell_type": "code",
   "execution_count": 29,
   "metadata": {},
   "outputs": [
    {
     "data": {
      "image/png": "[encoded data removed]",
      "text/plain": [
       "<Figure size 432x288 with 1 Axes>"
      ]
     },
     "metadata": {
      "needs_background": "light"
     },
     "output_type": "display_data"
    }
   ],
   "source": [
    "sns.barplot(x=\"condn_name\", y=\"drug_pair\", data=drug_10);"
   ]
  },
  {
   "cell_type": "code",
   "execution_count": 36,
   "metadata": {},
   "outputs": [],
   "source": [
    "aspirin=two_sides.query('(drug_1==\"Aspirin\") & (drug_2==\"Simvastatin\")')"
   ]
  },
  {
   "cell_type": "code",
   "execution_count": 38,
   "metadata": {},
   "outputs": [
    {
     "data": {
      "text/html": [
       "<div>\n",
       "<style scoped>\n",
       "    .dataframe tbody tr th:only-of-type {\n",
       "        vertical-align: middle;\n",
       "    }\n",
       "\n",
       "    .dataframe tbody tr th {\n",
       "        vertical-align: top;\n",
       "    }\n",
       "\n",
       "    .dataframe thead th {\n",
       "        text-align: right;\n",
       "    }\n",
       "</style>\n",
       "<table border=\"1\" class=\"dataframe\">\n",
       "  <thead>\n",
       "    <tr style=\"text-align: right;\">\n",
       "      <th></th>\n",
       "      <th>drug_1</th>\n",
       "      <th>drug_2</th>\n",
       "      <th>condn_name</th>\n",
       "    </tr>\n",
       "  </thead>\n",
       "  <tbody>\n",
       "    <tr>\n",
       "      <td>8183983</td>\n",
       "      <td>Aspirin</td>\n",
       "      <td>Simvastatin</td>\n",
       "      <td>Anaemia vitamin B12 deficiency</td>\n",
       "    </tr>\n",
       "    <tr>\n",
       "      <td>8183984</td>\n",
       "      <td>Aspirin</td>\n",
       "      <td>Simvastatin</td>\n",
       "      <td>Iron deficiency anaemia</td>\n",
       "    </tr>\n",
       "    <tr>\n",
       "      <td>8183985</td>\n",
       "      <td>Aspirin</td>\n",
       "      <td>Simvastatin</td>\n",
       "      <td>Pernicious anaemia</td>\n",
       "    </tr>\n",
       "    <tr>\n",
       "      <td>8183986</td>\n",
       "      <td>Aspirin</td>\n",
       "      <td>Simvastatin</td>\n",
       "      <td>Anaemia</td>\n",
       "    </tr>\n",
       "    <tr>\n",
       "      <td>8183987</td>\n",
       "      <td>Aspirin</td>\n",
       "      <td>Simvastatin</td>\n",
       "      <td>Anaemia macrocytic</td>\n",
       "    </tr>\n",
       "    <tr>\n",
       "      <td>8183988</td>\n",
       "      <td>Aspirin</td>\n",
       "      <td>Simvastatin</td>\n",
       "      <td>Anaemia megaloblastic</td>\n",
       "    </tr>\n",
       "    <tr>\n",
       "      <td>8183989</td>\n",
       "      <td>Aspirin</td>\n",
       "      <td>Simvastatin</td>\n",
       "      <td>Anaemia postoperative</td>\n",
       "    </tr>\n",
       "    <tr>\n",
       "      <td>8183990</td>\n",
       "      <td>Aspirin</td>\n",
       "      <td>Simvastatin</td>\n",
       "      <td>Haemorrhagic anaemia</td>\n",
       "    </tr>\n",
       "    <tr>\n",
       "      <td>8183991</td>\n",
       "      <td>Aspirin</td>\n",
       "      <td>Simvastatin</td>\n",
       "      <td>Hypochromic anaemia</td>\n",
       "    </tr>\n",
       "    <tr>\n",
       "      <td>8183992</td>\n",
       "      <td>Aspirin</td>\n",
       "      <td>Simvastatin</td>\n",
       "      <td>Malaria</td>\n",
       "    </tr>\n",
       "    <tr>\n",
       "      <td>8183993</td>\n",
       "      <td>Aspirin</td>\n",
       "      <td>Simvastatin</td>\n",
       "      <td>Microcytic anaemia</td>\n",
       "    </tr>\n",
       "    <tr>\n",
       "      <td>8183994</td>\n",
       "      <td>Aspirin</td>\n",
       "      <td>Simvastatin</td>\n",
       "      <td>Normochromic normocytic anaemia</td>\n",
       "    </tr>\n",
       "    <tr>\n",
       "      <td>8183995</td>\n",
       "      <td>Aspirin</td>\n",
       "      <td>Simvastatin</td>\n",
       "      <td>Anaemia of chronic disease</td>\n",
       "    </tr>\n",
       "    <tr>\n",
       "      <td>8183996</td>\n",
       "      <td>Aspirin</td>\n",
       "      <td>Simvastatin</td>\n",
       "      <td>Anaemia of malignant disease</td>\n",
       "    </tr>\n",
       "    <tr>\n",
       "      <td>8183997</td>\n",
       "      <td>Aspirin</td>\n",
       "      <td>Simvastatin</td>\n",
       "      <td>Nephrogenic anaemia</td>\n",
       "    </tr>\n",
       "  </tbody>\n",
       "</table>\n",
       "</div>"
      ],
      "text/plain": [
       "          drug_1       drug_2                       condn_name\n",
       "8183983  Aspirin  Simvastatin   Anaemia vitamin B12 deficiency\n",
       "8183984  Aspirin  Simvastatin          Iron deficiency anaemia\n",
       "8183985  Aspirin  Simvastatin               Pernicious anaemia\n",
       "8183986  Aspirin  Simvastatin                          Anaemia\n",
       "8183987  Aspirin  Simvastatin               Anaemia macrocytic\n",
       "8183988  Aspirin  Simvastatin            Anaemia megaloblastic\n",
       "8183989  Aspirin  Simvastatin            Anaemia postoperative\n",
       "8183990  Aspirin  Simvastatin             Haemorrhagic anaemia\n",
       "8183991  Aspirin  Simvastatin              Hypochromic anaemia\n",
       "8183992  Aspirin  Simvastatin                          Malaria\n",
       "8183993  Aspirin  Simvastatin               Microcytic anaemia\n",
       "8183994  Aspirin  Simvastatin  Normochromic normocytic anaemia\n",
       "8183995  Aspirin  Simvastatin       Anaemia of chronic disease\n",
       "8183996  Aspirin  Simvastatin     Anaemia of malignant disease\n",
       "8183997  Aspirin  Simvastatin              Nephrogenic anaemia"
      ]
     },
     "execution_count": 38,
     "metadata": {},
     "output_type": "execute_result"
    }
   ],
   "source": [
    "aspirin.head(15)"
   ]
  },
  {
   "cell_type": "code",
   "execution_count": null,
   "metadata": {},
   "outputs": [],
   "source": []
  }
 ],
 "metadata": {
  "kernelspec": {
   "display_name": "Python 3",
   "language": "python",
   "name": "python3"
  },
  "language_info": {
   "codemirror_mode": {
    "name": "ipython",
    "version": 3
   },
   "file_extension": ".py",
   "mimetype": "text/x-python",
   "name": "python",
   "nbconvert_exporter": "python",
   "pygments_lexer": "ipython3",
   "version": "3.7.4"
  }
 },
 "nbformat": 4,
 "nbformat_minor": 2
}
