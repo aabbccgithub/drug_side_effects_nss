{
 "cells": [
  {
   "cell_type": "code",
   "execution_count": 2,
   "metadata": {},
   "outputs": [],
   "source": [
    "# Import libraries\n",
    "import pandas as pd\n",
    "from pandas import DataFrame\n",
    "import numpy as np\n",
    "#pd.set_option('display.max_columns', None)  \n",
    "import seaborn as sns"
   ]
  },
  {
   "cell_type": "code",
   "execution_count": 3,
   "metadata": {},
   "outputs": [],
   "source": [
    "from sklearn.model_selection import train_test_split\n",
    "from sklearn.metrics import accuracy_score, confusion_matrix, classification_report\n",
    "from sklearn.model_selection import GridSearchCV"
   ]
  },
  {
   "cell_type": "code",
   "execution_count": 4,
   "metadata": {},
   "outputs": [],
   "source": [
    "#Import data for model building and prediction\n",
    "rf_model_data=pd.read_csv('data/final_model_data')"
   ]
  },
  {
   "cell_type": "code",
   "execution_count": 5,
   "metadata": {
    "scrolled": true
   },
   "outputs": [
    {
     "data": {
      "text/html": [
       "<div>\n",
       "<style scoped>\n",
       "    .dataframe tbody tr th:only-of-type {\n",
       "        vertical-align: middle;\n",
       "    }\n",
       "\n",
       "    .dataframe tbody tr th {\n",
       "        vertical-align: top;\n",
       "    }\n",
       "\n",
       "    .dataframe thead th {\n",
       "        text-align: right;\n",
       "    }\n",
       "</style>\n",
       "<table border=\"1\" class=\"dataframe\">\n",
       "  <thead>\n",
       "    <tr style=\"text-align: right;\">\n",
       "      <th></th>\n",
       "      <th>drug_1</th>\n",
       "      <th>drug_2</th>\n",
       "      <th>Diarrhoea</th>\n",
       "      <th>Dyspnoea</th>\n",
       "      <th>Nausea</th>\n",
       "      <th>Pneumonia</th>\n",
       "      <th>Pyrexia</th>\n",
       "      <th>Vomiting</th>\n",
       "      <th>0_sub</th>\n",
       "      <th>1_sub</th>\n",
       "      <th>...</th>\n",
       "      <th>871_sub</th>\n",
       "      <th>872_sub</th>\n",
       "      <th>873_sub</th>\n",
       "      <th>874_sub</th>\n",
       "      <th>875_sub</th>\n",
       "      <th>876_sub</th>\n",
       "      <th>877_sub</th>\n",
       "      <th>878_sub</th>\n",
       "      <th>879_sub</th>\n",
       "      <th>880_sub</th>\n",
       "    </tr>\n",
       "  </thead>\n",
       "  <tbody>\n",
       "    <tr>\n",
       "      <td>0</td>\n",
       "      <td>acarbose</td>\n",
       "      <td>acebutolol</td>\n",
       "      <td>0</td>\n",
       "      <td>1</td>\n",
       "      <td>0</td>\n",
       "      <td>0</td>\n",
       "      <td>1</td>\n",
       "      <td>0</td>\n",
       "      <td>1</td>\n",
       "      <td>1</td>\n",
       "      <td>...</td>\n",
       "      <td>0</td>\n",
       "      <td>0</td>\n",
       "      <td>0</td>\n",
       "      <td>0</td>\n",
       "      <td>0</td>\n",
       "      <td>0</td>\n",
       "      <td>0</td>\n",
       "      <td>0</td>\n",
       "      <td>0</td>\n",
       "      <td>0</td>\n",
       "    </tr>\n",
       "    <tr>\n",
       "      <td>1</td>\n",
       "      <td>acarbose</td>\n",
       "      <td>acenocoumarol</td>\n",
       "      <td>1</td>\n",
       "      <td>1</td>\n",
       "      <td>0</td>\n",
       "      <td>0</td>\n",
       "      <td>1</td>\n",
       "      <td>1</td>\n",
       "      <td>1</td>\n",
       "      <td>1</td>\n",
       "      <td>...</td>\n",
       "      <td>0</td>\n",
       "      <td>0</td>\n",
       "      <td>0</td>\n",
       "      <td>0</td>\n",
       "      <td>0</td>\n",
       "      <td>0</td>\n",
       "      <td>0</td>\n",
       "      <td>0</td>\n",
       "      <td>0</td>\n",
       "      <td>0</td>\n",
       "    </tr>\n",
       "  </tbody>\n",
       "</table>\n",
       "<p>2 rows × 889 columns</p>\n",
       "</div>"
      ],
      "text/plain": [
       "     drug_1         drug_2  Diarrhoea  Dyspnoea  Nausea  Pneumonia  Pyrexia  \\\n",
       "0  acarbose     acebutolol          0         1       0          0        1   \n",
       "1  acarbose  acenocoumarol          1         1       0          0        1   \n",
       "\n",
       "   Vomiting  0_sub  1_sub  ...  871_sub  872_sub  873_sub  874_sub  875_sub  \\\n",
       "0         0      1      1  ...        0        0        0        0        0   \n",
       "1         1      1      1  ...        0        0        0        0        0   \n",
       "\n",
       "   876_sub  877_sub  878_sub  879_sub  880_sub  \n",
       "0        0        0        0        0        0  \n",
       "1        0        0        0        0        0  \n",
       "\n",
       "[2 rows x 889 columns]"
      ]
     },
     "execution_count": 5,
     "metadata": {},
     "output_type": "execute_result"
    }
   ],
   "source": [
    "rf_model_data.head(2)"
   ]
  },
  {
   "cell_type": "markdown",
   "metadata": {},
   "source": [
    "\n",
    "## Random Forest for Diarrhoea"
   ]
  },
  {
   "cell_type": "code",
   "execution_count": 6,
   "metadata": {},
   "outputs": [],
   "source": [
    "X=rf_model_data.iloc[:,8:]\n",
    "y=rf_model_data.iloc[:, 2]"
   ]
  },
  {
   "cell_type": "markdown",
   "metadata": {},
   "source": [
    "### oversampling for Diarrhoea"
   ]
  },
  {
   "cell_type": "code",
   "execution_count": 7,
   "metadata": {},
   "outputs": [],
   "source": [
    "#create development and hold out set\n",
    "X_dev, X_hold, y_dev, y_hold = train_test_split(X, y, test_size = 0.2, random_state=321)"
   ]
  },
  {
   "cell_type": "code",
   "execution_count": 8,
   "metadata": {},
   "outputs": [],
   "source": [
    "X_train, X_test, y_train, y_test= train_test_split(X_dev, y_dev, test_size=0.2, \\\n",
    "                                                  random_state=321)"
   ]
  },
  {
   "cell_type": "code",
   "execution_count": 9,
   "metadata": {},
   "outputs": [],
   "source": [
    "from imblearn.over_sampling import RandomOverSampler\n",
    "\n",
    "oversampler = RandomOverSampler(random_state = 321)\n",
    "\n",
    "X_resampled, y_resampled = oversampler.fit_resample(X_train, y_train)\n",
    "\n",
    "#y_resampled.value_counts()"
   ]
  },
  {
   "cell_type": "code",
   "execution_count": 10,
   "metadata": {},
   "outputs": [
    {
     "name": "stderr",
     "output_type": "stream",
     "text": [
      "/opt/anaconda3/lib/python3.7/site-packages/sklearn/ensemble/forest.py:245: FutureWarning: The default value of n_estimators will change from 10 in version 0.20 to 100 in 0.22.\n",
      "  \"10 in version 0.20 to 100 in 0.22.\", FutureWarning)\n"
     ]
    },
    {
     "data": {
      "text/plain": [
       "RandomForestClassifier(bootstrap=True, class_weight=None, criterion='gini',\n",
       "                       max_depth=None, max_features='auto', max_leaf_nodes=None,\n",
       "                       min_impurity_decrease=0.0, min_impurity_split=None,\n",
       "                       min_samples_leaf=1, min_samples_split=2,\n",
       "                       min_weight_fraction_leaf=0.0, n_estimators=10,\n",
       "                       n_jobs=None, oob_score=False, random_state=321,\n",
       "                       verbose=0, warm_start=False)"
      ]
     },
     "execution_count": 10,
     "metadata": {},
     "output_type": "execute_result"
    }
   ],
   "source": [
    "#RandomForest Classifier\n",
    "from sklearn.ensemble import RandomForestClassifier\n",
    "\n",
    "\n",
    "#number of estimator:number of trees and depth: criteria to split\n",
    "#param_grid = {'n_estimators': 50, 'max_depth': 5}\n",
    "random_forest = RandomForestClassifier(random_state=321)\n",
    "\n",
    "# Instantiate the GridSearchCV object: logreg_cv\n",
    "#random_forest_cv = GridSearchCV(random_forest, param_grid, cv=5)\n",
    "random_forest.fit(X_resampled, y_resampled)\n",
    "\n",
    "# Model evaluating\n",
    "#MAE_forest = statistics.mean(abs(y_pred-y_test))\n",
    "\n",
    "# Print the optimal parameters and best score\n",
    "#print(\"Tuned Random Forest Parameter: {}\".format(random_forest_cv.best_params_))\n",
    "#print(\"Tuned Random Forest score: {}\".format(random_forest_cv.score(X_test,y_test)))\n",
    "#print(\"Tuned Random Forest MAE: \"+str(MAE_forest))"
   ]
  },
  {
   "cell_type": "code",
   "execution_count": 11,
   "metadata": {},
   "outputs": [
    {
     "data": {
      "text/plain": [
       "0.5818226239921818"
      ]
     },
     "execution_count": 11,
     "metadata": {},
     "output_type": "execute_result"
    }
   ],
   "source": [
    "# Model testing\n",
    "accuracy_score(y_resampled, random_forest.predict(X_resampled))"
   ]
  },
  {
   "cell_type": "code",
   "execution_count": 12,
   "metadata": {},
   "outputs": [
    {
     "data": {
      "text/plain": [
       "0.5929612513330963"
      ]
     },
     "execution_count": 12,
     "metadata": {},
     "output_type": "execute_result"
    }
   ],
   "source": [
    "y_pred = random_forest.predict(X_test)\n",
    "accuracy_score(y_test, y_pred)"
   ]
  },
  {
   "cell_type": "code",
   "execution_count": 13,
   "metadata": {
    "scrolled": true
   },
   "outputs": [
    {
     "data": {
      "text/plain": [
       "array([[2353, 1947],\n",
       "       [6068, 9323]])"
      ]
     },
     "execution_count": 13,
     "metadata": {},
     "output_type": "execute_result"
    }
   ],
   "source": [
    "confusion_matrix(y_test, y_pred)"
   ]
  },
  {
   "cell_type": "code",
   "execution_count": 14,
   "metadata": {},
   "outputs": [
    {
     "name": "stdout",
     "output_type": "stream",
     "text": [
      "              precision    recall  f1-score   support\n",
      "\n",
      "           0       0.28      0.55      0.37      4300\n",
      "           1       0.83      0.61      0.70     15391\n",
      "\n",
      "    accuracy                           0.59     19691\n",
      "   macro avg       0.55      0.58      0.53     19691\n",
      "weighted avg       0.71      0.59      0.63     19691\n",
      "\n"
     ]
    }
   ],
   "source": [
    "print(classification_report(y_test, y_pred))"
   ]
  },
  {
   "cell_type": "markdown",
   "metadata": {},
   "source": [
    "# ## Random Forest for Dyspnoea"
   ]
  },
  {
   "cell_type": "code",
   "execution_count": 15,
   "metadata": {},
   "outputs": [],
   "source": [
    "X1=rf_model_data.iloc[:,8:]\n",
    "y1=rf_model_data.iloc[:,3]"
   ]
  },
  {
   "cell_type": "markdown",
   "metadata": {},
   "source": [
    "### oversampling for Dyspnoea"
   ]
  },
  {
   "cell_type": "code",
   "execution_count": 16,
   "metadata": {},
   "outputs": [],
   "source": [
    "#create development and hold out set\n",
    "X1_dev, X1_hold, y1_dev, y1_hold = train_test_split(X1, y1, test_size = 0.2, \\\n",
    "                                                    random_state=321)"
   ]
  },
  {
   "cell_type": "code",
   "execution_count": 17,
   "metadata": {},
   "outputs": [],
   "source": [
    "X1_train, X1_test, y1_train, y1_test= train_test_split(X1_dev, y1_dev, test_size=0.2, \\\n",
    "                                                  random_state=321)"
   ]
  },
  {
   "cell_type": "code",
   "execution_count": 18,
   "metadata": {},
   "outputs": [],
   "source": [
    "from imblearn.over_sampling import RandomOverSampler\n",
    "\n",
    "oversampler = RandomOverSampler(random_state = 321)\n",
    "\n",
    "X1_resampled, y1_resampled = oversampler.fit_resample(X1_train, y1_train)\n",
    "\n",
    "#y_resampled.value_counts()"
   ]
  },
  {
   "cell_type": "code",
   "execution_count": 19,
   "metadata": {},
   "outputs": [
    {
     "name": "stderr",
     "output_type": "stream",
     "text": [
      "/opt/anaconda3/lib/python3.7/site-packages/sklearn/ensemble/forest.py:245: FutureWarning: The default value of n_estimators will change from 10 in version 0.20 to 100 in 0.22.\n",
      "  \"10 in version 0.20 to 100 in 0.22.\", FutureWarning)\n"
     ]
    },
    {
     "data": {
      "text/plain": [
       "RandomForestClassifier(bootstrap=True, class_weight=None, criterion='gini',\n",
       "                       max_depth=None, max_features='auto', max_leaf_nodes=None,\n",
       "                       min_impurity_decrease=0.0, min_impurity_split=None,\n",
       "                       min_samples_leaf=1, min_samples_split=2,\n",
       "                       min_weight_fraction_leaf=0.0, n_estimators=10,\n",
       "                       n_jobs=None, oob_score=False, random_state=321,\n",
       "                       verbose=0, warm_start=False)"
      ]
     },
     "execution_count": 19,
     "metadata": {},
     "output_type": "execute_result"
    }
   ],
   "source": [
    "#RandomForest Classifier\n",
    "from sklearn.ensemble import RandomForestClassifier\n",
    "\n",
    "#number of estimator:number of trees and depth: criteria to split\n",
    "#param_grid = {'n_estimators': 50, 'max_depth': 5}\n",
    "rf1 = RandomForestClassifier(random_state=321)\n",
    "\n",
    "# Instantiate the GridSearchCV object: logreg_cv\n",
    "#random_forest_cv = GridSearchCV(random_forest, param_grid, cv=5)\n",
    "rf1.fit(X1_resampled, y1_resampled)\n",
    "\n",
    "# Model evaluating\n",
    "#MAE_forest = statistics.mean(abs(y_pred-y_test))\n",
    "\n",
    "# Print the optimal parameters and best score\n",
    "#print(\"Tuned Random Forest Parameter: {}\".format(random_forest_cv.best_params_))\n",
    "#print(\"Tuned Random Forest score: {}\".format(random_forest_cv.score(X_test,y_test)))\n",
    "#print(\"Tuned Random Forest MAE: \"+str(MAE_forest))"
   ]
  },
  {
   "cell_type": "code",
   "execution_count": 20,
   "metadata": {},
   "outputs": [
    {
     "data": {
      "text/plain": [
       "0.5838784787670473"
      ]
     },
     "execution_count": 20,
     "metadata": {},
     "output_type": "execute_result"
    }
   ],
   "source": [
    "# Model testing\n",
    "accuracy_score(y1_resampled, rf1.predict(X1_resampled))"
   ]
  },
  {
   "cell_type": "code",
   "execution_count": 21,
   "metadata": {},
   "outputs": [
    {
     "data": {
      "text/plain": [
       "0.5886445584277081"
      ]
     },
     "execution_count": 21,
     "metadata": {},
     "output_type": "execute_result"
    }
   ],
   "source": [
    "y_pred1 = rf1.predict(X1_test)\n",
    "accuracy_score(y1_test, y_pred1)"
   ]
  },
  {
   "cell_type": "code",
   "execution_count": 23,
   "metadata": {
    "scrolled": true
   },
   "outputs": [
    {
     "data": {
      "text/plain": [
       "array([[2179, 2121],\n",
       "       [6271, 9120]])"
      ]
     },
     "execution_count": 23,
     "metadata": {},
     "output_type": "execute_result"
    }
   ],
   "source": [
    "confusion_matrix(y_test, y_pred1)"
   ]
  },
  {
   "cell_type": "code",
   "execution_count": 24,
   "metadata": {},
   "outputs": [
    {
     "name": "stdout",
     "output_type": "stream",
     "text": [
      "              precision    recall  f1-score   support\n",
      "\n",
      "           0       0.25      0.54      0.35      3920\n",
      "           1       0.84      0.60      0.70     15771\n",
      "\n",
      "    accuracy                           0.59     19691\n",
      "   macro avg       0.55      0.57      0.52     19691\n",
      "weighted avg       0.72      0.59      0.63     19691\n",
      "\n"
     ]
    }
   ],
   "source": [
    "print(classification_report(y1_test, y_pred1))"
   ]
  },
  {
   "cell_type": "markdown",
   "metadata": {},
   "source": [
    "# ## Random Forest for Nausea"
   ]
  },
  {
   "cell_type": "code",
   "execution_count": 25,
   "metadata": {},
   "outputs": [],
   "source": [
    "X2=rf_model_data.iloc[:,8:]\n",
    "y2=rf_model_data.iloc[:,4]"
   ]
  },
  {
   "cell_type": "markdown",
   "metadata": {},
   "source": [
    "### oversampling for Nausea"
   ]
  },
  {
   "cell_type": "code",
   "execution_count": 26,
   "metadata": {},
   "outputs": [],
   "source": [
    "#create development and hold out set\n",
    "X2_dev, X2_hold, y2_dev, y2_hold = train_test_split(X2, y2, test_size = 0.2, \\\n",
    "                                                    random_state=321)"
   ]
  },
  {
   "cell_type": "code",
   "execution_count": 27,
   "metadata": {},
   "outputs": [],
   "source": [
    "X2_train, X2_test, y2_train, y2_test= train_test_split(X2_dev, y2_dev, test_size=0.2, \\\n",
    "                                                  random_state=321)"
   ]
  },
  {
   "cell_type": "code",
   "execution_count": 28,
   "metadata": {},
   "outputs": [],
   "source": [
    "from imblearn.over_sampling import RandomOverSampler\n",
    "\n",
    "oversampler = RandomOverSampler(random_state = 321)\n",
    "\n",
    "X2_resampled, y2_resampled = oversampler.fit_resample(X2_train, y2_train)\n",
    "\n",
    "#y_resampled.value_counts()"
   ]
  },
  {
   "cell_type": "code",
   "execution_count": 29,
   "metadata": {},
   "outputs": [
    {
     "name": "stderr",
     "output_type": "stream",
     "text": [
      "/opt/anaconda3/lib/python3.7/site-packages/sklearn/ensemble/forest.py:245: FutureWarning: The default value of n_estimators will change from 10 in version 0.20 to 100 in 0.22.\n",
      "  \"10 in version 0.20 to 100 in 0.22.\", FutureWarning)\n"
     ]
    },
    {
     "data": {
      "text/plain": [
       "RandomForestClassifier(bootstrap=True, class_weight=None, criterion='gini',\n",
       "                       max_depth=None, max_features='auto', max_leaf_nodes=None,\n",
       "                       min_impurity_decrease=0.0, min_impurity_split=None,\n",
       "                       min_samples_leaf=1, min_samples_split=2,\n",
       "                       min_weight_fraction_leaf=0.0, n_estimators=10,\n",
       "                       n_jobs=None, oob_score=False, random_state=321,\n",
       "                       verbose=0, warm_start=False)"
      ]
     },
     "execution_count": 29,
     "metadata": {},
     "output_type": "execute_result"
    }
   ],
   "source": [
    "#number of estimator:number of trees and depth: criteria to split\n",
    "#param_grid = {'n_estimators': 50, 'max_depth': 5}\n",
    "rf2 = RandomForestClassifier(random_state=321)\n",
    "\n",
    "# Instantiate the GridSearchCV object: logreg_cv\n",
    "#random_forest_cv = GridSearchCV(random_forest, param_grid, cv=5)\n",
    "rf2.fit(X2_resampled, y2_resampled)\n",
    "\n",
    "# Model evaluating\n",
    "#MAE_forest = statistics.mean(abs(y_pred-y_test))\n",
    "\n",
    "# Print the optimal parameters and best score\n",
    "#print(\"Tuned Random Forest Parameter: {}\".format(random_forest_cv.best_params_))\n",
    "#print(\"Tuned Random Forest score: {}\".format(random_forest_cv.score(X_test,y_test)))\n",
    "#print(\"Tuned Random Forest MAE: \"+str(MAE_forest))"
   ]
  },
  {
   "cell_type": "code",
   "execution_count": 30,
   "metadata": {},
   "outputs": [
    {
     "data": {
      "text/plain": [
       "0.5930421086765183"
      ]
     },
     "execution_count": 30,
     "metadata": {},
     "output_type": "execute_result"
    }
   ],
   "source": [
    "# Model testing\n",
    "accuracy_score(y2_resampled, rf2.predict(X2_resampled))"
   ]
  },
  {
   "cell_type": "code",
   "execution_count": 31,
   "metadata": {},
   "outputs": [
    {
     "data": {
      "text/plain": [
       "0.6053526992026814"
      ]
     },
     "execution_count": 31,
     "metadata": {},
     "output_type": "execute_result"
    }
   ],
   "source": [
    "y_pred2 = rf2.predict(X2_test)\n",
    "accuracy_score(y2_test, y_pred2)"
   ]
  },
  {
   "cell_type": "code",
   "execution_count": 32,
   "metadata": {
    "scrolled": true
   },
   "outputs": [
    {
     "data": {
      "text/plain": [
       "array([[1946, 1577],\n",
       "       [6194, 9974]])"
      ]
     },
     "execution_count": 32,
     "metadata": {},
     "output_type": "execute_result"
    }
   ],
   "source": [
    "confusion_matrix(y2_test, y_pred2)"
   ]
  },
  {
   "cell_type": "code",
   "execution_count": 33,
   "metadata": {},
   "outputs": [
    {
     "name": "stdout",
     "output_type": "stream",
     "text": [
      "              precision    recall  f1-score   support\n",
      "\n",
      "           0       0.24      0.55      0.33      3523\n",
      "           1       0.86      0.62      0.72     16168\n",
      "\n",
      "    accuracy                           0.61     19691\n",
      "   macro avg       0.55      0.58      0.53     19691\n",
      "weighted avg       0.75      0.61      0.65     19691\n",
      "\n"
     ]
    }
   ],
   "source": [
    "print(classification_report(y2_test, y_pred2))"
   ]
  },
  {
   "cell_type": "markdown",
   "metadata": {},
   "source": [
    "# ## Random Forest for Pneumonia"
   ]
  },
  {
   "cell_type": "code",
   "execution_count": 34,
   "metadata": {},
   "outputs": [],
   "source": [
    "X3=rf_model_data.iloc[:,8:]\n",
    "y3=rf_model_data.iloc[:,5]"
   ]
  },
  {
   "cell_type": "markdown",
   "metadata": {},
   "source": [
    "### oversampling for Pneumonia"
   ]
  },
  {
   "cell_type": "code",
   "execution_count": 35,
   "metadata": {},
   "outputs": [],
   "source": [
    "#create development and hold out set\n",
    "X3_dev, X3_hold, y3_dev, y3_hold = train_test_split(X3, y3, test_size = 0.2, \\\n",
    "                                                    random_state=321)"
   ]
  },
  {
   "cell_type": "code",
   "execution_count": 36,
   "metadata": {},
   "outputs": [],
   "source": [
    "X3_train, X3_test, y3_train, y3_test= train_test_split(X3_dev, y3_dev, test_size=0.2, \\\n",
    "                                                  random_state=321)"
   ]
  },
  {
   "cell_type": "code",
   "execution_count": 37,
   "metadata": {},
   "outputs": [],
   "source": [
    "from imblearn.over_sampling import RandomOverSampler\n",
    "\n",
    "oversampler = RandomOverSampler(random_state = 321)\n",
    "\n",
    "X3_resampled, y3_resampled = oversampler.fit_resample(X3_train, y3_train)\n",
    "\n",
    "#y_resampled.value_counts()"
   ]
  },
  {
   "cell_type": "code",
   "execution_count": 38,
   "metadata": {},
   "outputs": [
    {
     "name": "stderr",
     "output_type": "stream",
     "text": [
      "/opt/anaconda3/lib/python3.7/site-packages/sklearn/ensemble/forest.py:245: FutureWarning: The default value of n_estimators will change from 10 in version 0.20 to 100 in 0.22.\n",
      "  \"10 in version 0.20 to 100 in 0.22.\", FutureWarning)\n"
     ]
    },
    {
     "data": {
      "text/plain": [
       "RandomForestClassifier(bootstrap=True, class_weight=None, criterion='gini',\n",
       "                       max_depth=None, max_features='auto', max_leaf_nodes=None,\n",
       "                       min_impurity_decrease=0.0, min_impurity_split=None,\n",
       "                       min_samples_leaf=1, min_samples_split=2,\n",
       "                       min_weight_fraction_leaf=0.0, n_estimators=10,\n",
       "                       n_jobs=None, oob_score=False, random_state=321,\n",
       "                       verbose=0, warm_start=False)"
      ]
     },
     "execution_count": 38,
     "metadata": {},
     "output_type": "execute_result"
    }
   ],
   "source": [
    "#RandomForest Classifier\n",
    "from sklearn.ensemble import RandomForestClassifier\n",
    "\n",
    "#number of estimator:number of trees and depth: criteria to split\n",
    "#param_grid = {'n_estimators': 50, 'max_depth': 5}\n",
    "rf3 = RandomForestClassifier(random_state=321)\n",
    "\n",
    "# Instantiate the GridSearchCV object: logreg_cv\n",
    "#random_forest_cv = GridSearchCV(random_forest, param_grid, cv=5)\n",
    "rf3.fit(X3_resampled, y3_resampled)\n",
    "\n",
    "# Model evaluating\n",
    "#MAE_forest = statistics.mean(abs(y_pred-y_test))\n",
    "\n",
    "# Print the optimal parameters and best score\n",
    "#print(\"Tuned Random Forest Parameter: {}\".format(random_forest_cv.best_params_))\n",
    "#print(\"Tuned Random Forest score: {}\".format(random_forest_cv.score(X_test,y_test)))\n",
    "#print(\"Tuned Random Forest MAE: \"+str(MAE_forest))"
   ]
  },
  {
   "cell_type": "code",
   "execution_count": 39,
   "metadata": {},
   "outputs": [
    {
     "data": {
      "text/plain": [
       "0.5762926254505129"
      ]
     },
     "execution_count": 39,
     "metadata": {},
     "output_type": "execute_result"
    }
   ],
   "source": [
    "# Model testing\n",
    "accuracy_score(y3_resampled, rf3.predict(X3_resampled))"
   ]
  },
  {
   "cell_type": "code",
   "execution_count": 40,
   "metadata": {},
   "outputs": [
    {
     "data": {
      "text/plain": [
       "0.6060128992940937"
      ]
     },
     "execution_count": 40,
     "metadata": {},
     "output_type": "execute_result"
    }
   ],
   "source": [
    "y_pred3 = rf3.predict(X3_test)\n",
    "accuracy_score(y3_test, y_pred3)"
   ]
  },
  {
   "cell_type": "code",
   "execution_count": 41,
   "metadata": {
    "scrolled": true
   },
   "outputs": [
    {
     "data": {
      "text/plain": [
       "array([[2605, 2685],\n",
       "       [5073, 9328]])"
      ]
     },
     "execution_count": 41,
     "metadata": {},
     "output_type": "execute_result"
    }
   ],
   "source": [
    "confusion_matrix(y3_test, y_pred3)"
   ]
  },
  {
   "cell_type": "code",
   "execution_count": 43,
   "metadata": {},
   "outputs": [
    {
     "name": "stdout",
     "output_type": "stream",
     "text": [
      "              precision    recall  f1-score   support\n",
      "\n",
      "           0       0.34      0.49      0.40      5290\n",
      "           1       0.78      0.65      0.71     14401\n",
      "\n",
      "    accuracy                           0.61     19691\n",
      "   macro avg       0.56      0.57      0.55     19691\n",
      "weighted avg       0.66      0.61      0.62     19691\n",
      "\n"
     ]
    }
   ],
   "source": [
    "print(classification_report(y3_test, y_pred3))"
   ]
  },
  {
   "cell_type": "markdown",
   "metadata": {},
   "source": [
    "# ## Random Forest for Pyrexia"
   ]
  },
  {
   "cell_type": "code",
   "execution_count": 44,
   "metadata": {},
   "outputs": [],
   "source": [
    "X4=rf_model_data.iloc[:,8:]\n",
    "y4=rf_model_data.iloc[:,6]"
   ]
  },
  {
   "cell_type": "markdown",
   "metadata": {},
   "source": [
    "### oversampling for Pyrexia"
   ]
  },
  {
   "cell_type": "code",
   "execution_count": 45,
   "metadata": {},
   "outputs": [],
   "source": [
    "#create development and hold out set\n",
    "X4_dev, X4_hold, y4_dev, y4_hold = train_test_split(X4, y4, test_size = 0.2, \\\n",
    "                                                    random_state=321)"
   ]
  },
  {
   "cell_type": "code",
   "execution_count": 46,
   "metadata": {},
   "outputs": [],
   "source": [
    "X4_train, X4_test, y4_train, y4_test= train_test_split(X4_dev, y4_dev, test_size=0.2, \\\n",
    "                                                  random_state=321)"
   ]
  },
  {
   "cell_type": "code",
   "execution_count": 47,
   "metadata": {},
   "outputs": [],
   "source": [
    "from imblearn.over_sampling import RandomOverSampler\n",
    "\n",
    "oversampler = RandomOverSampler(random_state = 321)\n",
    "\n",
    "X4_resampled, y4_resampled = oversampler.fit_resample(X4_train, y4_train)\n",
    "\n",
    "#y_resampled.value_counts()"
   ]
  },
  {
   "cell_type": "code",
   "execution_count": 48,
   "metadata": {},
   "outputs": [
    {
     "name": "stderr",
     "output_type": "stream",
     "text": [
      "/opt/anaconda3/lib/python3.7/site-packages/sklearn/ensemble/forest.py:245: FutureWarning: The default value of n_estimators will change from 10 in version 0.20 to 100 in 0.22.\n",
      "  \"10 in version 0.20 to 100 in 0.22.\", FutureWarning)\n"
     ]
    },
    {
     "data": {
      "text/plain": [
       "RandomForestClassifier(bootstrap=True, class_weight=None, criterion='gini',\n",
       "                       max_depth=None, max_features='auto', max_leaf_nodes=None,\n",
       "                       min_impurity_decrease=0.0, min_impurity_split=None,\n",
       "                       min_samples_leaf=1, min_samples_split=2,\n",
       "                       min_weight_fraction_leaf=0.0, n_estimators=10,\n",
       "                       n_jobs=None, oob_score=False, random_state=321,\n",
       "                       verbose=0, warm_start=False)"
      ]
     },
     "execution_count": 48,
     "metadata": {},
     "output_type": "execute_result"
    }
   ],
   "source": [
    "#RandomForest Classifier\n",
    "from sklearn.ensemble import RandomForestClassifier\n",
    "\n",
    "#number of estimator:number of trees and depth: criteria to split\n",
    "#param_grid = {'n_estimators': 50, 'max_depth': 5}\n",
    "rf4 = RandomForestClassifier(random_state=321)\n",
    "\n",
    "# Instantiate the GridSearchCV object: logreg_cv\n",
    "#random_forest_cv = GridSearchCV(random_forest, param_grid, cv=5)\n",
    "rf4.fit(X4_resampled, y4_resampled)\n",
    "\n",
    "# Model evaluating\n",
    "#MAE_forest = statistics.mean(abs(y_pred-y_test))\n",
    "\n",
    "# Print the optimal parameters and best score\n",
    "#print(\"Tuned Random Forest Parameter: {}\".format(random_forest_cv.best_params_))\n",
    "#print(\"Tuned Random Forest score: {}\".format(random_forest_cv.score(X_test,y_test)))\n",
    "#print(\"Tuned Random Forest MAE: \"+str(MAE_forest))"
   ]
  },
  {
   "cell_type": "code",
   "execution_count": 49,
   "metadata": {},
   "outputs": [
    {
     "data": {
      "text/plain": [
       "0.5771547017879077"
      ]
     },
     "execution_count": 49,
     "metadata": {},
     "output_type": "execute_result"
    }
   ],
   "source": [
    "# Model testing\n",
    "accuracy_score(y4_resampled, rf4.predict(X4_resampled))"
   ]
  },
  {
   "cell_type": "code",
   "execution_count": 50,
   "metadata": {},
   "outputs": [
    {
     "data": {
      "text/plain": [
       "0.5963638210349906"
      ]
     },
     "execution_count": 50,
     "metadata": {},
     "output_type": "execute_result"
    }
   ],
   "source": [
    "y_pred4 = rf4.predict(X4_test)\n",
    "accuracy_score(y4_test, y_pred4)"
   ]
  },
  {
   "cell_type": "code",
   "execution_count": 51,
   "metadata": {
    "scrolled": true
   },
   "outputs": [
    {
     "data": {
      "text/plain": [
       "array([[2598, 2467],\n",
       "       [5481, 9145]])"
      ]
     },
     "execution_count": 51,
     "metadata": {},
     "output_type": "execute_result"
    }
   ],
   "source": [
    "confusion_matrix(y4_test, y_pred4)"
   ]
  },
  {
   "cell_type": "code",
   "execution_count": 52,
   "metadata": {},
   "outputs": [
    {
     "name": "stdout",
     "output_type": "stream",
     "text": [
      "              precision    recall  f1-score   support\n",
      "\n",
      "           0       0.32      0.51      0.40      5065\n",
      "           1       0.79      0.63      0.70     14626\n",
      "\n",
      "    accuracy                           0.60     19691\n",
      "   macro avg       0.55      0.57      0.55     19691\n",
      "weighted avg       0.67      0.60      0.62     19691\n",
      "\n"
     ]
    }
   ],
   "source": [
    "print(classification_report(y4_test, y_pred4))"
   ]
  },
  {
   "cell_type": "markdown",
   "metadata": {},
   "source": [
    "# ## Random Forest for Vomiting"
   ]
  },
  {
   "cell_type": "code",
   "execution_count": 53,
   "metadata": {},
   "outputs": [],
   "source": [
    "X5=rf_model_data.iloc[:,8:]\n",
    "y5=rf_model_data.iloc[:,7]"
   ]
  },
  {
   "cell_type": "markdown",
   "metadata": {},
   "source": [
    "### oversampling for Vomiting"
   ]
  },
  {
   "cell_type": "code",
   "execution_count": 54,
   "metadata": {},
   "outputs": [],
   "source": [
    "#create development and hold out set\n",
    "X5_dev, X5_hold, y5_dev, y5_hold = train_test_split(X5, y5, test_size = 0.2, \\\n",
    "                                                    random_state=321)"
   ]
  },
  {
   "cell_type": "code",
   "execution_count": 55,
   "metadata": {},
   "outputs": [],
   "source": [
    "X5_train, X5_test, y5_train, y5_test= train_test_split(X5_dev, y5_dev, test_size=0.2, \\\n",
    "                                                  random_state=321)"
   ]
  },
  {
   "cell_type": "code",
   "execution_count": 56,
   "metadata": {},
   "outputs": [],
   "source": [
    "from imblearn.over_sampling import RandomOverSampler\n",
    "\n",
    "oversampler = RandomOverSampler(random_state = 321)\n",
    "\n",
    "X5_resampled, y5_resampled = oversampler.fit_resample(X5_train, y5_train)\n",
    "\n",
    "#y_resampled.value_counts()"
   ]
  },
  {
   "cell_type": "code",
   "execution_count": 57,
   "metadata": {},
   "outputs": [
    {
     "name": "stderr",
     "output_type": "stream",
     "text": [
      "/opt/anaconda3/lib/python3.7/site-packages/sklearn/ensemble/forest.py:245: FutureWarning: The default value of n_estimators will change from 10 in version 0.20 to 100 in 0.22.\n",
      "  \"10 in version 0.20 to 100 in 0.22.\", FutureWarning)\n"
     ]
    },
    {
     "data": {
      "text/plain": [
       "RandomForestClassifier(bootstrap=True, class_weight=None, criterion='gini',\n",
       "                       max_depth=None, max_features='auto', max_leaf_nodes=None,\n",
       "                       min_impurity_decrease=0.0, min_impurity_split=None,\n",
       "                       min_samples_leaf=1, min_samples_split=2,\n",
       "                       min_weight_fraction_leaf=0.0, n_estimators=10,\n",
       "                       n_jobs=None, oob_score=False, random_state=321,\n",
       "                       verbose=0, warm_start=False)"
      ]
     },
     "execution_count": 57,
     "metadata": {},
     "output_type": "execute_result"
    }
   ],
   "source": [
    "#RandomForest Classifier\n",
    "from sklearn.ensemble import RandomForestClassifier\n",
    "\n",
    "#number of estimator:number of trees and depth: criteria to split\n",
    "#param_grid = {'n_estimators': 50, 'max_depth': 5}\n",
    "rf5 = RandomForestClassifier(random_state=321)\n",
    "\n",
    "# Instantiate the GridSearchCV object: logreg_cv\n",
    "#random_forest_cv = GridSearchCV(random_forest, param_grid, cv=5)\n",
    "rf5.fit(X5_resampled, y5_resampled)\n",
    "\n",
    "# Model evaluating\n",
    "#MAE_forest = statistics.mean(abs(y_pred-y_test))\n",
    "\n",
    "# Print the optimal parameters and best score\n",
    "#print(\"Tuned Random Forest Parameter: {}\".format(random_forest_cv.best_params_))\n",
    "#print(\"Tuned Random Forest score: {}\".format(random_forest_cv.score(X_test,y_test)))\n",
    "#print(\"Tuned Random Forest MAE: \"+str(MAE_forest))"
   ]
  },
  {
   "cell_type": "code",
   "execution_count": 58,
   "metadata": {},
   "outputs": [
    {
     "data": {
      "text/plain": [
       "0.5753803596127247"
      ]
     },
     "execution_count": 58,
     "metadata": {},
     "output_type": "execute_result"
    }
   ],
   "source": [
    "# Model testing\n",
    "accuracy_score(y5_resampled, rf5.predict(X5_resampled))"
   ]
  },
  {
   "cell_type": "code",
   "execution_count": 59,
   "metadata": {},
   "outputs": [
    {
     "data": {
      "text/plain": [
       "0.5946371438728353"
      ]
     },
     "execution_count": 59,
     "metadata": {},
     "output_type": "execute_result"
    }
   ],
   "source": [
    "y_pred5 = rf5.predict(X5_test)\n",
    "accuracy_score(y5_test, y_pred5)"
   ]
  },
  {
   "cell_type": "code",
   "execution_count": 61,
   "metadata": {
    "scrolled": true
   },
   "outputs": [
    {
     "data": {
      "text/plain": [
       "array([[2285, 2234],\n",
       "       [5748, 9424]])"
      ]
     },
     "execution_count": 61,
     "metadata": {},
     "output_type": "execute_result"
    }
   ],
   "source": [
    "confusion_matrix(y5_test, y_pred5)"
   ]
  },
  {
   "cell_type": "code",
   "execution_count": 62,
   "metadata": {},
   "outputs": [
    {
     "name": "stdout",
     "output_type": "stream",
     "text": [
      "              precision    recall  f1-score   support\n",
      "\n",
      "           0       0.28      0.51      0.36      4519\n",
      "           1       0.81      0.62      0.70     15172\n",
      "\n",
      "    accuracy                           0.59     19691\n",
      "   macro avg       0.55      0.56      0.53     19691\n",
      "weighted avg       0.69      0.59      0.62     19691\n",
      "\n"
     ]
    }
   ],
   "source": [
    "print(classification_report(y5_test, y_pred5))"
   ]
  },
  {
   "cell_type": "code",
   "execution_count": 60,
   "metadata": {},
   "outputs": [
    {
     "ename": "NameError",
     "evalue": "name 'LogisticRegression' is not defined",
     "output_type": "error",
     "traceback": [
      "\u001b[0;31m---------------------------------------------------------------------------\u001b[0m",
      "\u001b[0;31mNameError\u001b[0m                                 Traceback (most recent call last)",
      "\u001b[0;32m<ipython-input-60-21692a1c605a>\u001b[0m in \u001b[0;36m<module>\u001b[0;34m\u001b[0m\n\u001b[0;32m----> 1\u001b[0;31m \u001b[0mlr\u001b[0m \u001b[0;34m=\u001b[0m \u001b[0mLogisticRegression\u001b[0m\u001b[0;34m(\u001b[0m\u001b[0;34m)\u001b[0m\u001b[0;34m\u001b[0m\u001b[0;34m\u001b[0m\u001b[0m\n\u001b[0m\u001b[1;32m      2\u001b[0m \u001b[0mlr\u001b[0m\u001b[0;34m.\u001b[0m\u001b[0mfit\u001b[0m\u001b[0;34m(\u001b[0m\u001b[0mX_resampled\u001b[0m\u001b[0;34m,\u001b[0m \u001b[0my_resampled\u001b[0m\u001b[0;34m)\u001b[0m\u001b[0;34m\u001b[0m\u001b[0;34m\u001b[0m\u001b[0m\n\u001b[1;32m      3\u001b[0m \u001b[0;34m\u001b[0m\u001b[0m\n\u001b[1;32m      4\u001b[0m \u001b[0my_pred\u001b[0m \u001b[0;34m=\u001b[0m \u001b[0mlr\u001b[0m\u001b[0;34m.\u001b[0m\u001b[0mpredict\u001b[0m\u001b[0;34m(\u001b[0m\u001b[0mX_test\u001b[0m\u001b[0;34m)\u001b[0m\u001b[0;34m\u001b[0m\u001b[0;34m\u001b[0m\u001b[0m\n\u001b[1;32m      5\u001b[0m \u001b[0maccuracy_score\u001b[0m\u001b[0;34m(\u001b[0m\u001b[0my_test\u001b[0m\u001b[0;34m,\u001b[0m \u001b[0my_pred\u001b[0m\u001b[0;34m)\u001b[0m\u001b[0;34m\u001b[0m\u001b[0;34m\u001b[0m\u001b[0m\n",
      "\u001b[0;31mNameError\u001b[0m: name 'LogisticRegression' is not defined"
     ]
    }
   ],
   "source": [
    "lr = LogisticRegression()\n",
    "lr.fit(X_resampled, y_resampled)\n",
    "\n",
    "y_pred = lr.predict(X_test)\n",
    "accuracy_score(y_test, y_pred)\n",
    "\n",
    "confusion_matrix(y_test, y_pred)\n",
    "\n",
    "print(classification_report(y_test, y_pred))\n",
    "from imblearn.under_sampling import RandomUnderSampler"
   ]
  },
  {
   "cell_type": "code",
   "execution_count": null,
   "metadata": {},
   "outputs": [],
   "source": []
  }
 ],
 "metadata": {
  "kernelspec": {
   "display_name": "Python 3",
   "language": "python",
   "name": "python3"
  },
  "language_info": {
   "codemirror_mode": {
    "name": "ipython",
    "version": 3
   },
   "file_extension": ".py",
   "mimetype": "text/x-python",
   "name": "python",
   "nbconvert_exporter": "python",
   "pygments_lexer": "ipython3",
   "version": "3.7.4"
  }
 },
 "nbformat": 4,
 "nbformat_minor": 2
}
