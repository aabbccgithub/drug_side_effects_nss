{
 "cells": [
  {
   "cell_type": "code",
   "execution_count": 1,
   "metadata": {},
   "outputs": [],
   "source": [
    "# Import libraries\n",
    "import pandas as pd\n",
    "from pandas import DataFrame\n",
    "import numpy as np\n",
    "#pd.set_option('display.max_columns', None)  \n",
    "import seaborn as sns"
   ]
  },
  {
   "cell_type": "code",
   "execution_count": 2,
   "metadata": {},
   "outputs": [],
   "source": [
    "from sklearn.model_selection import train_test_split\n",
    "from sklearn.metrics import accuracy_score, confusion_matrix, f1_score, classification_report"
   ]
  },
  {
   "cell_type": "code",
   "execution_count": 3,
   "metadata": {},
   "outputs": [],
   "source": [
    "#Import data for model building and prediction\n",
    "rf_model_data=pd.read_csv('data/final_model_data')"
   ]
  },
  {
   "cell_type": "markdown",
   "metadata": {},
   "source": [
    "# LASSOCV for Diarrhoea"
   ]
  },
  {
   "cell_type": "code",
   "execution_count": null,
   "metadata": {},
   "outputs": [],
   "source": [
    "#LASSO\n",
    "X_train, X_test, y_train, y_test = train_test_split(X_dev, y_dev, test_size = 0.3, random_state=42)\n",
    "\n",
    "from sklearn.linear_model import LassoCV\n",
    "import statistics\n",
    "# Model fitting\n",
    "reg = LassoCV(cv=5, random_state=0).fit(X_train,y_train)\n",
    "# Model testing\n",
    "y_pred = reg.predict(X_test)\n",
    "# Model evaluating\n",
    "MAE_Lasso = statistics.mean(abs(y_pred-y_test))\n",
    "\n",
    "# Print the optimal parameters and best score\n",
    "print(\"Tuned Lasso Regression alpha: {}\".format(reg.alpha_))\n",
    "print(\"Tuned Lasso Regression score: {}\".format(reg.score(X_test,y_test)))\n",
    "print(\"Tuned Lasso Regression MAE: \"+str(MAE_Lasso))"
   ]
  }
 ],
 "metadata": {
  "kernelspec": {
   "display_name": "Python 3",
   "language": "python",
   "name": "python3"
  },
  "language_info": {
   "codemirror_mode": {
    "name": "ipython",
    "version": 3
   },
   "file_extension": ".py",
   "mimetype": "text/x-python",
   "name": "python",
   "nbconvert_exporter": "python",
   "pygments_lexer": "ipython3",
   "version": "3.7.4"
  }
 },
 "nbformat": 4,
 "nbformat_minor": 2
}
